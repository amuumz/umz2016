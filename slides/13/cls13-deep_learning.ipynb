{
 "cells": [
  {
   "cell_type": "markdown",
   "metadata": {
    "slideshow": {
     "slide_type": "slide"
    }
   },
   "source": [
    "### Wykład 13\n",
    "# Deep learning - uczenie się cech\n",
    "\n",
    "18.01.2017 r."
   ]
  },
  {
   "cell_type": "markdown",
   "metadata": {
    "slideshow": {
     "slide_type": "subslide"
    }
   },
   "source": [
    "## Czym jest deep learning?\n",
    "\n",
    "Najczęściej definicje zawierają dwa elementy:\n",
    "\n",
    "* Wiele warstw z obliczeniami nieliniowymi.\n",
    "* Uczenie się reprezentacji cech."
   ]
  },
  {
   "cell_type": "markdown",
   "metadata": {
    "slideshow": {
     "slide_type": "fragment"
    }
   },
   "source": [
    "**Inżyniera cech vs. uczenie się cech**"
   ]
  },
  {
   "cell_type": "markdown",
   "metadata": {
    "slideshow": {
     "slide_type": "subslide"
    }
   },
   "source": [
    "## Plan wykładu\n",
    "\n",
    "1. Historia\n",
    "2. Autoencoder\n",
    "3. Przykłady:\n",
    "  1. Sieci konwolucyjne\n",
    "  1. Sieci rekurencyjne \n",
    "  1. Uczenie się ze wzmocnieniem\n",
    "6. Co dalej?"
   ]
  },
  {
   "cell_type": "markdown",
   "metadata": {
    "slideshow": {
     "slide_type": "slide"
    }
   },
   "source": [
    "## Ivakhnenko & Lapa (1965) - Pierwsza DNN\n",
    "\n",
    "<img style=\"margin: auto\" width=\"60%\" src=\"http://devblogs.nvidia.com/parallelforall/wp-content/uploads/2015/12/GMDH-network.png\">\n",
    "\n",
    "Warstwy trenowane po kolei, algorytm propagacji wsteczniej jeszcze nie istniał."
   ]
  },
  {
   "cell_type": "markdown",
   "metadata": {
    "slideshow": {
     "slide_type": "subslide"
    }
   },
   "source": [
    "## Propagcja wsteczna błędów (BP)\n",
    "\n",
    "* Niekompletna wersja BP powstaje w latach 60-tych.\n",
    "* Praca magisterska (**!**) Linnainmaa (1970): \n",
    "    * Pierwsza nowoczesna wersja BP\n",
    "    * Implementacja w FORTRAN-ie\n",
    "    * Brak odniesienia do sieci neuronowych\n",
    "* Rumelhart, Hinton, Williams (1985): Pierwsze wyniki dla BP i sieci neuronowych.\n",
    "* LeCunn (1989, Bell Labs): Pierwsze \"praktyczne\" zastosowanie BP do sieci neuronowych."
   ]
  },
  {
   "cell_type": "markdown",
   "metadata": {
    "slideshow": {
     "slide_type": "subslide"
    }
   },
   "source": [
    "## LeCun (1993) - LeNet\n",
    "\n",
    "> Le Cun, Y., Jackel, L.D., Boser, B., Denker, J.S., Graf, H.P., Guyon, I., Henderson, D., Howard, R.E. and Hubbard, W., 1989. Handwritten digit recognition: Applications of neural network chips and automatic learning. IEEE Communications Magazine, 27(11), pp.41-46."
   ]
  },
  {
   "cell_type": "code",
   "execution_count": 4,
   "metadata": {
    "collapsed": false,
    "hide_input": true,
    "slideshow": {
     "slide_type": "subslide"
    }
   },
   "outputs": [
    {
     "data": {
      "image/jpeg": "[encoded data removed]",
      "text/html": [
       "\n",
       "        <iframe\n",
       "            width=\"800\"\n",
       "            height=\"600\"\n",
       "            src=\"https://www.youtube.com/embed/FwFduRA_L6Q\"\n",
       "            frameborder=\"0\"\n",
       "            allowfullscreen\n",
       "        ></iframe>\n",
       "        "
      ],
      "text/plain": [
       "<IPython.lib.display.YouTubeVideo at 0x7f71d096f8d0>"
      ]
     },
     "execution_count": 4,
     "metadata": {},
     "output_type": "execute_result"
    }
   ],
   "source": [
    "from IPython.display import YouTubeVideo\n",
    "YouTubeVideo('FwFduRA_L6Q', width=800, height=600)"
   ]
  },
  {
   "cell_type": "markdown",
   "metadata": {
    "slideshow": {
     "slide_type": "subslide"
    }
   },
   "source": [
    "## Cortes & Vapnik (1995) - SVM\n",
    "\n",
    "> Cortes, C. and Vapnik, V., 1995. Support-vector networks. Machine learning, 20(3), pp.273-297.\n",
    "\n",
    "Rozwój SVM przykrywa postęp w sieciach neuronowych."
   ]
  },
  {
   "cell_type": "markdown",
   "metadata": {
    "slideshow": {
     "slide_type": "subslide"
    }
   },
   "source": [
    "## Problem znikających gradientów \n",
    "\n",
    "(ang. _vanishing gradient problem_)\n",
    "\n",
    "* W głębokich sieciach neuronowych wagi były ograniczone do $[0,1]$ lub $[-1,1]$. \n",
    "* Mnożenie wielu małych wartości (tak się dzieje w BP w przypadku wielu warstw) prowadzi do ich zanikania."
   ]
  },
  {
   "cell_type": "markdown",
   "metadata": {
    "slideshow": {
     "slide_type": "fragment"
    }
   },
   "source": [
    "Rozwiązania:\n",
    "* Nowe algorytmy optimalizacji (np. `Rprop`, `RMSprop`)\n",
    "* Nowe rozwiązania (ReLU, Dropout, lepsza incjalizacja wag)\n",
    "* Nowe architektury (np. LSTM)\n",
    "* ... więcej danych + zwiększenie mocy obliczeniowej"
   ]
  },
  {
   "cell_type": "markdown",
   "metadata": {
    "slideshow": {
     "slide_type": "subslide"
    }
   },
   "source": [
    "## GPU\n",
    "\n",
    "<img style=\"margin: auto\" width=\"80%\" src=\"http://http.developer.nvidia.com/GPUGems2/elementLinks/45_finance_04.jpg\"/>"
   ]
  },
  {
   "cell_type": "markdown",
   "metadata": {
    "slideshow": {
     "slide_type": "subslide"
    }
   },
   "source": [
    "## ImageNet (2012)\n",
    "\n",
    "<img style=\"margin:auto;\" width=\"50%\" src=\"http://jackkelly.github.io/BuildSys_2015_NeuralNILM/images/imagenet.png\"/>\n",
    "\n",
    "http://image-net.org/challenges/LSVRC/2012/ilsvrc2012.pdf"
   ]
  },
  {
   "cell_type": "markdown",
   "metadata": {
    "slideshow": {
     "slide_type": "subslide"
    }
   },
   "source": [
    "## Krizhevsky, Sutskever & Hinton (2012) - AlexNet\n",
    "\n",
    "> Krizhevsky, A., Sutskever, I. and Hinton, G.E., 2012. Imagenet classification with deep convolutional neural networks. In Advances in neural information processing systems (pp. 1097-1105)."
   ]
  },
  {
   "cell_type": "markdown",
   "metadata": {
    "slideshow": {
     "slide_type": "subslide"
    }
   },
   "source": [
    "<img style=\"float: left; margin: auto\" src=\"ilsvrc.png\"/>\n",
    "<img style=\"float: left; margin: auto\" src=\"imagenet-acc.png\"/>"
   ]
  },
  {
   "cell_type": "markdown",
   "metadata": {
    "slideshow": {
     "slide_type": "skip"
    }
   },
   "source": [
    "http://rodrigob.github.io/are_we_there_yet/build/classification_datasets_results.html"
   ]
  },
  {
   "cell_type": "markdown",
   "metadata": {
    "slideshow": {
     "slide_type": "slide"
    }
   },
   "source": [
    "# Autoencoder\n",
    "\n",
    "_a.k.a encoder-decoder_"
   ]
  },
  {
   "cell_type": "markdown",
   "metadata": {
    "slideshow": {
     "slide_type": "subslide"
    }
   },
   "source": [
    "## Autoencoder\n",
    "\n",
    "Wykorzystując nieanotowane dane $x^{(i)}$, chcemy zbudować sieć neuronową, dla której $\\bar{y}^{(i)} = x^{(i)}$.\n",
    "\n",
    "Czyli $h_{\\theta}(x) \\approx x$.\n",
    "\n",
    "Co w tym trudnego/niezwykłego?"
   ]
  },
  {
   "cell_type": "markdown",
   "metadata": {
    "slideshow": {
     "slide_type": "subslide"
    }
   },
   "source": [
    "<img src=\"Autoencoder636b.png\" style=\"margin: auto\" />"
   ]
  },
  {
   "cell_type": "markdown",
   "metadata": {
    "slideshow": {
     "slide_type": "subslide"
    }
   },
   "source": [
    "## Encoder-decoder\n",
    "\n",
    "<img src=\"autoencoder_schema.jpg\" style=\"margin: auto\" />\n",
    "\n",
    "* Ograniczenie liczby neuronów w warstwie ukrytej (lub inne ograniczenia) ma pozwolić na \"odkrycie\" pewnej **struktury** w danych.\n",
    "* Skompresowana reprezentacja będzie musiała być odtworzona."
   ]
  },
  {
   "cell_type": "markdown",
   "metadata": {
    "slideshow": {
     "slide_type": "subslide"
    }
   },
   "source": [
    "## Przetwarzanie obrazów\n",
    "\n",
    "<img src=\"mnistweights2.png\" style=\"margin: auto;\" width=\"60%\" />"
   ]
  },
  {
   "cell_type": "markdown",
   "metadata": {
    "slideshow": {
     "slide_type": "subslide"
    }
   },
   "source": [
    "## Word embeddings\n",
    "\n",
    "<img src=\"glove-word-embeddings-education.png\" style=\"margin: auto;\" width=\"75%\"/>"
   ]
  },
  {
   "cell_type": "markdown",
   "metadata": {
    "slideshow": {
     "slide_type": "subslide"
    }
   },
   "source": [
    "## Podsumowanie\n",
    "\n",
    "* Autoencoder pozwala wyuczyć się pewnej reprezentacji cech.\n",
    "* Uzyskane różne reprezentacje można składać wykorzystując tzw. pre-trenowanie i fine-tuning.\n",
    "* Czy to już jest _deep learning_?"
   ]
  },
  {
   "cell_type": "markdown",
   "metadata": {
    "slideshow": {
     "slide_type": "slide"
    }
   },
   "source": [
    "# Sieci konwolucyjne\n",
    "\n",
    "_a.k.a konwolucyjne sieci neuronowe, splotowe sieci neuronowe_<br/>\n",
    "_ang. Convolutional Neural Networks (CNN)_"
   ]
  },
  {
   "cell_type": "markdown",
   "metadata": {
    "slideshow": {
     "slide_type": "subslide"
    }
   },
   "source": [
    "## Konwolucje 1D<br/>w sieciach neuronowych"
   ]
  },
  {
   "cell_type": "markdown",
   "metadata": {
    "slideshow": {
     "slide_type": "subslide"
    }
   },
   "source": [
    "<img style=\"margin: auto\" width=\"80%\" src=\"http://colah.github.io/posts/2014-07-Conv-Nets-Modular/img/Conv-9-xs.png\"/>"
   ]
  },
  {
   "cell_type": "markdown",
   "metadata": {
    "slideshow": {
     "slide_type": "fragment"
    }
   },
   "source": [
    "<img style=\"margin: auto\" width=\"80%\" src=\"http://colah.github.io/posts/2014-07-Conv-Nets-Modular/img/Conv-9-F.png\"/>"
   ]
  },
  {
   "cell_type": "markdown",
   "metadata": {
    "slideshow": {
     "slide_type": "fragment"
    }
   },
   "source": [
    "<img style=\"margin: auto\" width=\"80%\" src=\"http://colah.github.io/posts/2014-07-Conv-Nets-Modular/img/Conv-9-Conv2.png\"/>"
   ]
  },
  {
   "cell_type": "markdown",
   "metadata": {
    "slideshow": {
     "slide_type": "subslide"
    }
   },
   "source": [
    "<img style=\"margin: auto\" width=\"80%\" src=\"http://colah.github.io/posts/2014-07-Conv-Nets-Modular/img/Conv-9-Conv3.png\"/>"
   ]
  },
  {
   "cell_type": "markdown",
   "metadata": {
    "slideshow": {
     "slide_type": "subslide"
    }
   },
   "source": [
    "<img style=\"margin: auto\" width=\"80%\" src=\"http://colah.github.io/posts/2014-07-Conv-Nets-Modular/img/Conv-9-Conv2Conv2.png\"/>"
   ]
  },
  {
   "cell_type": "markdown",
   "metadata": {
    "slideshow": {
     "slide_type": "subslide"
    }
   },
   "source": [
    "<img style=\"margin: auto\" width=\"80%\" src=\"http://colah.github.io/posts/2014-07-Conv-Nets-Modular/img/Conv-9-Conv2Max2Conv2.png\"/>"
   ]
  },
  {
   "cell_type": "markdown",
   "metadata": {
    "slideshow": {
     "slide_type": "subslide"
    }
   },
   "source": [
    "## Konwolucje 2D<br/>w sieciach neuronowych"
   ]
  },
  {
   "cell_type": "markdown",
   "metadata": {},
   "source": [
    "<img style=\"margin: auto\" width=\"30%\" src=\"http://colah.github.io/posts/2014-07-Conv-Nets-Modular/img/Conv2-unit.png\"/>"
   ]
  },
  {
   "cell_type": "markdown",
   "metadata": {
    "slideshow": {
     "slide_type": "subslide"
    }
   },
   "source": [
    "<img style=\"margin: auto\" width=\"80%\" src=\"http://colah.github.io/posts/2014-07-Conv-Nets-Modular/img/Conv2-9x5-Conv2.png\"/>"
   ]
  },
  {
   "cell_type": "markdown",
   "metadata": {
    "slideshow": {
     "slide_type": "subslide"
    }
   },
   "source": [
    "<img style=\"margin: auto\" width=\"80%\" src=\"http://colah.github.io/posts/2014-07-Conv-Nets-Modular/img/Conv2-9x5-Conv2Conv2.png\"/>"
   ]
  },
  {
   "cell_type": "markdown",
   "metadata": {
    "slideshow": {
     "slide_type": "subslide"
    }
   },
   "source": [
    "<img style=\"margin: auto\" width=\"80%\" src=\"http://colah.github.io/posts/2014-07-Conv-Nets-Modular/img/Conv2-9x5-Conv2Max2Conv2.png\"/>"
   ]
  },
  {
   "cell_type": "markdown",
   "metadata": {
    "slideshow": {
     "slide_type": "subslide"
    }
   },
   "source": [
    "## Konwolucje w przetwarzaniu obrazów\n",
    "<img style=\"margin: auto\" width=\"60%\" src=\"http://devblogs.nvidia.com/parallelforall/wp-content/uploads/2015/11/convolution.png\"/>"
   ]
  },
  {
   "cell_type": "markdown",
   "metadata": {
    "slideshow": {
     "slide_type": "subslide"
    }
   },
   "source": [
    "## Konwolucje w przetwarzaniu obrazów\n",
    "<img style=\"margin: auto\" width=\"60%\" src=\"http://devblogs.nvidia.com/parallelforall/wp-content/uploads/2015/11/Convolution_schematic.gif\"/>"
   ]
  },
  {
   "cell_type": "markdown",
   "metadata": {
    "slideshow": {
     "slide_type": "subslide"
    }
   },
   "source": [
    "## Konwolucje 2D formalnie\n",
    "\n",
    "$$\n",
    "\\left[\\begin{array}{ccc}\n",
    "a & b & c\\\\\n",
    "d & e & f\\\\\n",
    "g & h & i\\\\\n",
    "\\end{array}\\right]\n",
    "*\n",
    "\\left[\\begin{array}{ccc}\n",
    "1 & 2 & 3\\\\\n",
    "4 & 5 & 6\\\\\n",
    "7 & 8 & 9\\\\\n",
    "\\end{array}\\right] \n",
    "=\\\\\n",
    "(1 \\cdot i)+(2\\cdot h)+(3\\cdot g)+(4 \\cdot f)+(5\\cdot e)\\\\+(6\\cdot d)+(7\\cdot c)+(8\\cdot b)+(9\\cdot a)\n",
    "$$\n",
    "\n",
    "Więcej: https://en.wikipedia.org/wiki/Kernel_(image_processing)"
   ]
  },
  {
   "cell_type": "markdown",
   "metadata": {
    "slideshow": {
     "slide_type": "subslide"
    }
   },
   "source": [
    "## Max-pooling\n",
    "\n",
    "<img style=\"margin: auto\" width=\"80%\" src=\"http://cs231n.github.io/assets/cnn/maxpool.jpeg\"/>"
   ]
  },
  {
   "cell_type": "markdown",
   "metadata": {
    "slideshow": {
     "slide_type": "subslide"
    }
   },
   "source": [
    "## Struktura jednostki konwolucyjnej\n",
    "\n",
    "<img style=\"margin: auto;\" width=\"35%\" src=\"http://colah.github.io/posts/2014-07-Conv-Nets-Modular/img/Conv-A.png\"/>"
   ]
  },
  {
   "cell_type": "markdown",
   "metadata": {
    "slideshow": {
     "slide_type": "fragment"
    }
   },
   "source": [
    "lub:\n",
    "\n",
    "<img style=\"margin: auto;\" width=\"35%\" src=\"http://colah.github.io/posts/2014-07-Conv-Nets-Modular/img/Conv-A-NIN.png\"/>\n",
    "\n",
    "Więcej: http://colah.github.io/posts/2014-07-Conv-Nets-Modular"
   ]
  },
  {
   "cell_type": "markdown",
   "metadata": {
    "slideshow": {
     "slide_type": "skip"
    }
   },
   "source": [
    "## Krizhevsky, Sutskever & Hinton (2012) - ImageNet\n",
    "\n",
    "<img style=\"margin: auto\" width=\"60%\" src=\"http://colah.github.io/posts/2014-07-Conv-Nets-Modular/img/KSH-arch.png\"/>\n",
    "\n",
    "| Model         | Top-1 | Top-5 |\n",
    "|---------------|-------|-------|\n",
    "| Sparse Coding | 47.1% | 28.2% |\n",
    "| SIFT+FVs      | 45.7% | 25.7% |\n",
    "| **CNN**       | 37.5% | 17.0% |"
   ]
  },
  {
   "cell_type": "markdown",
   "metadata": {
    "slideshow": {
     "slide_type": "subslide"
    }
   },
   "source": [
    "<img style=\"margin: auto\" width=\"100%\" src=\"alexnet2.jpg\"/>"
   ]
  },
  {
   "cell_type": "markdown",
   "metadata": {
    "slideshow": {
     "slide_type": "subslide"
    }
   },
   "source": [
    "## Warstwy ukryte w AlexNet\n",
    "<img style=\"margin: auto\" width=\"80%\" src=\"http://colah.github.io/posts/2014-07-Conv-Nets-Modular/img/KSH-filters.png\"/>"
   ]
  },
  {
   "cell_type": "markdown",
   "metadata": {
    "slideshow": {
     "slide_type": "subslide"
    }
   },
   "source": [
    "<img style=\"margin: auto\" width=\"80%\" src=\"http://colah.github.io/posts/2014-07-Conv-Nets-Modular/img/KSH-results.png\"/>"
   ]
  },
  {
   "cell_type": "markdown",
   "metadata": {
    "input_collapsed": false,
    "slideshow": {
     "slide_type": "subslide"
    }
   },
   "source": [
    "## Warstwa konwolucyjna 2D i max-pooling w Keras"
   ]
  },
  {
   "cell_type": "code",
   "execution_count": 9,
   "metadata": {
    "collapsed": true,
    "slideshow": {
     "slide_type": "-"
    }
   },
   "outputs": [],
   "source": [
    "from keras.models import Sequential\n",
    "from keras.layers.core import Dense, Dropout, Activation, Flatten\n",
    "from keras.layers.convolutional import Convolution2D, MaxPooling2D\n",
    "\n",
    "model = Sequential()\n",
    "model.add(Convolution2D(32, 3, 3, border_mode='valid', input_shape=(1, 28, 28)))\n",
    "model.add(Activation('relu'))\n",
    "model.add(MaxPooling2D(pool_size=(2, 2)))\n",
    "model.add(Dropout(0.25))\n",
    "\n",
    "model.add(Flatten())\n",
    "model.add(Dense(128))\n",
    "model.add(Activation('relu'))\n",
    "model.add(Dropout(0.5))\n",
    "model.add(Dense(10))\n",
    "model.add(Activation('softmax'))"
   ]
  },
  {
   "cell_type": "markdown",
   "metadata": {
    "collapsed": true,
    "slideshow": {
     "slide_type": "slide"
    }
   },
   "source": [
    "# RNN i LSTM<br/> - przetwarzanie sekwencji\n",
    "\n",
    "_ang. Recurrent Neural Networks (RNN), Long Short-Term Memory (LSTM)_"
   ]
  },
  {
   "cell_type": "markdown",
   "metadata": {
    "slideshow": {
     "slide_type": "subslide"
    }
   },
   "source": [
    "## Sieci rekurencyjne\n",
    "<img style=\"margin: auto\" width=\"20%\" src=\"http://colah.github.io/posts/2015-08-Understanding-LSTMs/img/RNN-rolled.png\"/>"
   ]
  },
  {
   "cell_type": "markdown",
   "metadata": {
    "slideshow": {
     "slide_type": "fragment"
    }
   },
   "source": [
    "<img style=\"margin: auto\" width=\"80%\" src=\"http://colah.github.io/posts/2015-08-Understanding-LSTMs/img/RNN-unrolled.png\"/>"
   ]
  },
  {
   "cell_type": "markdown",
   "metadata": {
    "slideshow": {
     "slide_type": "subslide"
    }
   },
   "source": [
    "## Pamięć sieci rekurencyjnych\n",
    "<img style=\"margin: auto\" width=\"80%\" src=\"https://iamtrask.github.io/img/recurrence_gif.gif\"/>"
   ]
  },
  {
   "cell_type": "markdown",
   "metadata": {
    "slideshow": {
     "slide_type": "subslide"
    }
   },
   "source": [
    "## Zależności długodystansowe \n",
    "\n",
    "(ang. _Long-distance dependencies_)\n",
    "\n",
    "<img style=\"margin: auto\" width=\"60%\" src=\"http://colah.github.io/posts/2015-08-Understanding-LSTMs/img/RNN-shorttermdepdencies.png\"/>\n",
    "\n",
    "<img style=\"margin: auto\" width=\"60%\" src=\"http://colah.github.io/posts/2015-08-Understanding-LSTMs/img/RNN-longtermdependencies.png\"/>"
   ]
  },
  {
   "cell_type": "markdown",
   "metadata": {
    "slideshow": {
     "slide_type": "subslide"
    }
   },
   "source": [
    "## Sequence-to-sequence\n",
    "\n",
    "<img style=\"margin: auto\" width=\"80%\" src=\"http://karpathy.github.io/assets/rnn/diags.jpeg\"/>"
   ]
  },
  {
   "cell_type": "markdown",
   "metadata": {
    "slideshow": {
     "slide_type": "-"
    }
   },
   "source": [
    "* http://karpathy.github.io/2015/05/21/rnn-effectiveness/"
   ]
  },
  {
   "cell_type": "markdown",
   "metadata": {
    "slideshow": {
     "slide_type": "subslide"
    }
   },
   "source": [
    "## LSTM\n",
    "\n",
    "(ang. _Long Short-Term Memory_)\n",
    "\n",
    "\n",
    "<img src=\"LSTM3-SimpleRNN.png\" style=\"margin: auto;\" width=\"50%\" />\n",
    "\n",
    "$$\\downarrow$$\n",
    "\n",
    "<img src=\"lstm.jpeg\" style=\"margin: auto;\" width=\"50%\" />"
   ]
  },
  {
   "cell_type": "markdown",
   "metadata": {
    "slideshow": {
     "slide_type": "skip"
    }
   },
   "source": [
    "## Zastosowania\n",
    "\n",
    "Tekst, obraz, wideo...\n",
    "\n",
    "* Rozpoznawanie i generowanie mowy\n",
    "* Modelowanie języka naturalnego\n",
    "* Generowanie tekstu/obrazu\n",
    "* Tłumaczenie maszynowe"
   ]
  },
  {
   "cell_type": "markdown",
   "metadata": {
    "slideshow": {
     "slide_type": "subslide"
    }
   },
   "source": [
    "**Generator ''Szekspira''**\n",
    "\n",
    "PANDARUS:<br/>\n",
    "Alas, I think he shall be come approached and the day<br/>\n",
    "When little srain would be attain'd into being never fed,<br/>\n",
    "And who is but a chain and subjects of his death, <br/>\n",
    "I should not sleep.\n",
    "\n",
    "Second Senator:<br/>\n",
    "They are away this miseries, produced upon my soul, <br/>\n",
    "Breaking and strongly should be buried, when I perish<br/>\n",
    "The earth and thoughts of many states.<br/>\n",
    "\n",
    "DUKE VINCENTIO:<br/>\n",
    "Well, your wit is in the care of side and that.<br/>\n",
    "\n",
    "Second Lord:<br/>\n",
    "They would be ruled after this chamber, and <br/>\n",
    "my fair nues begun out of the fact, to be conveyed,<br/>\n",
    "Whose noble souls I'll have the heart of the wars.<br/>"
   ]
  },
  {
   "cell_type": "markdown",
   "metadata": {
    "slideshow": {
     "slide_type": "subslide"
    }
   },
   "source": [
    "## Tłumaczenie neuronowe\n",
    "<img style=\"margin: auto\" width=\"60%\" src=\"http://devblogs.nvidia.com/parallelforall/wp-content/uploads/2015/06/Figure2_NMT_system.png\"/>"
   ]
  },
  {
   "cell_type": "markdown",
   "metadata": {
    "slideshow": {
     "slide_type": "subslide"
    }
   },
   "source": [
    "## Generowanie opisów\n",
    "<img style=\"margin: auto\" width=\"100%\" src=\"nic_rated.jpg\"/>"
   ]
  },
  {
   "cell_type": "markdown",
   "metadata": {
    "slideshow": {
     "slide_type": "subslide"
    }
   },
   "source": [
    "### Schemat sieci\n",
    "\n",
    "<img style=\"margin: auto\" width=\"70%\" src=\"nn_c.png\"/>"
   ]
  },
  {
   "cell_type": "markdown",
   "metadata": {
    "collapsed": true,
    "slideshow": {
     "slide_type": "slide"
    }
   },
   "source": [
    "# Reinforcement learning\n",
    "\n",
    "_a.k.a uczenie ze wzmocnieniem_"
   ]
  },
  {
   "cell_type": "markdown",
   "metadata": {
    "slideshow": {
     "slide_type": "subslide"
    }
   },
   "source": [
    "## Uczenie się ze wzmocnieniem\n",
    "\n",
    "Do systemu nie są dostarczane przykłady trenujące, a jedynie **wartościująca informacja** trenująca, oceniająca jego dotychczasową skuteczność."
   ]
  },
  {
   "cell_type": "markdown",
   "metadata": {
    "slideshow": {
     "slide_type": "fragment"
    }
   },
   "source": [
    "W każdym kroku czasu $t$:\n",
    "\n",
    "1. obserwuj aktualny **stan** $x_t$;\n",
    "1. wybierz **akcję** $a_t$, do wykonania w stanie $x_t$;\n",
    "1. wykonaj akcję $a_t$;\n",
    "1. obserwuj **wzmocnienie** $r_t$ i następny stan $x_{t+1}$;\n",
    "1. ucz się **strategii** na podstawie doświadczenia $\\langle x_t,a_t,r_t,x_{t+1}\\rangle$. "
   ]
  },
  {
   "cell_type": "markdown",
   "metadata": {
    "slideshow": {
     "slide_type": "fragment"
    }
   },
   "source": [
    "\n",
    "Najpopularniejszy algorytm to _Q-learning_, który uczy się optymalnej funkcji wartości akcji, aby móc stosować strategię optymalną."
   ]
  },
  {
   "cell_type": "markdown",
   "metadata": {
    "slideshow": {
     "slide_type": "subslide"
    }
   },
   "source": [
    "## Zastosowania\n",
    "\n",
    "* Gry (planszowe, komputerowe)\n",
    "* Robotyka\n",
    "* Inteligentne sterowanie\n",
    "* Interakcja człowiek-komputer\n",
    "* Optymalizacja kombinatoryczna i szeregowanie"
   ]
  },
  {
   "cell_type": "code",
   "execution_count": 3,
   "metadata": {
    "collapsed": false,
    "hide_input": true,
    "slideshow": {
     "slide_type": "subslide"
    }
   },
   "outputs": [
    {
     "data": {
      "image/jpeg": "[encoded data removed]",
      "text/html": [
       "\n",
       "        <iframe\n",
       "            width=\"800\"\n",
       "            height=\"600\"\n",
       "            src=\"https://www.youtube.com/embed/TmPfTpjtdgg\"\n",
       "            frameborder=\"0\"\n",
       "            allowfullscreen\n",
       "        ></iframe>\n",
       "        "
      ],
      "text/plain": [
       "<IPython.lib.display.YouTubeVideo at 0x7f71d096f590>"
      ]
     },
     "execution_count": 3,
     "metadata": {},
     "output_type": "execute_result"
    }
   ],
   "source": [
    "from IPython.display import YouTubeVideo\n",
    "YouTubeVideo('TmPfTpjtdgg', width=800, height=600)"
   ]
  },
  {
   "cell_type": "code",
   "execution_count": 2,
   "metadata": {
    "collapsed": false,
    "hide_input": true,
    "slideshow": {
     "slide_type": "subslide"
    }
   },
   "outputs": [
    {
     "data": {
      "image/jpeg": "[encoded data removed]",
      "text/html": [
       "\n",
       "        <iframe\n",
       "            width=\"800\"\n",
       "            height=\"600\"\n",
       "            src=\"https://www.youtube.com/embed/Uz-zGYrYEjA\"\n",
       "            frameborder=\"0\"\n",
       "            allowfullscreen\n",
       "        ></iframe>\n",
       "        "
      ],
      "text/plain": [
       "<IPython.lib.display.YouTubeVideo at 0x7f71d096f5d0>"
      ]
     },
     "execution_count": 2,
     "metadata": {},
     "output_type": "execute_result"
    }
   ],
   "source": [
    "from IPython.display import YouTubeVideo\n",
    "YouTubeVideo('Uz-zGYrYEjA', width=800, height=600)"
   ]
  },
  {
   "cell_type": "code",
   "execution_count": 1,
   "metadata": {
    "collapsed": false,
    "hide_input": true,
    "scrolled": false,
    "slideshow": {
     "slide_type": "subslide"
    }
   },
   "outputs": [
    {
     "data": {
      "image/jpeg": "[encoded data removed]",
      "text/html": [
       "\n",
       "        <iframe\n",
       "            width=\"800\"\n",
       "            height=\"600\"\n",
       "            src=\"https://www.youtube.com/embed/L4KBBAwF_bE\"\n",
       "            frameborder=\"0\"\n",
       "            allowfullscreen\n",
       "        ></iframe>\n",
       "        "
      ],
      "text/plain": [
       "<IPython.lib.display.YouTubeVideo at 0x7f71d09920d0>"
      ]
     },
     "execution_count": 1,
     "metadata": {},
     "output_type": "execute_result"
    }
   ],
   "source": [
    "from IPython.display import YouTubeVideo\n",
    "YouTubeVideo('L4KBBAwF_bE', width=800, height=600)"
   ]
  },
  {
   "cell_type": "markdown",
   "metadata": {
    "slideshow": {
     "slide_type": "slide"
    }
   },
   "source": [
    "## Źródła\n",
    "\n",
    "* http://ufldl.stanford.edu/wiki/index.php/UFLDL_Tutorial\n",
    "* https://devblogs.nvidia.com/parallelforall/deep-learning-nutshell-core-concepts/#inception\n",
    "* http://karpathy.github.io/2015/05/21/rnn-effectiveness/\n",
    "* http://colah.github.io/posts/2014-07-Conv-Nets-Modular/\n",
    "* http://colah.github.io/posts/2015-08-Understanding-LSTMs/\n",
    "* https://deepmind.com/blog/deep-reinforcement-learning/"
   ]
  }
 ],
 "metadata": {
  "celltoolbar": "Slideshow",
  "hide_input": false,
  "kernelspec": {
   "display_name": "Python 2",
   "language": "python",
   "name": "python2"
  },
  "language_info": {
   "codemirror_mode": {
    "name": "ipython",
    "version": 2
   },
   "file_extension": ".py",
   "mimetype": "text/x-python",
   "name": "python",
   "nbconvert_exporter": "python",
   "pygments_lexer": "ipython2",
   "version": "2.7.12"
  }
 },
 "nbformat": 4,
 "nbformat_minor": 0
}
