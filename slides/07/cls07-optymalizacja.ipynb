{
 "cells": [
  {
   "cell_type": "code",
   "execution_count": 5,
   "metadata": {
    "collapsed": false,
    "hide_input": false,
    "input_collapsed": false,
    "slideshow": {
     "slide_type": "skip"
    }
   },
   "outputs": [],
   "source": [
    "import warnings\n",
    "warnings.filterwarnings('ignore')\n",
    "from IPython.core.display import HTML\n",
    "\n",
    "def css_styling():\n",
    "    styles = \"\"\"\n",
    "<style>\n",
    ".output_png { text-align:  center; }\n",
    "</style>\n",
    "    \"\"\"\n",
    "    return HTML(styles)\n",
    "css_styling()\n",
    "\n",
    "import math\n",
    "import random\n",
    "import numpy as np\n",
    "import matplotlib.pyplot as plt\n",
    "\n",
    "%matplotlib inline"
   ]
  },
  {
   "cell_type": "code",
   "execution_count": 6,
   "metadata": {
    "collapsed": false,
    "input_collapsed": false,
    "slideshow": {
     "slide_type": "skip"
    }
   },
   "outputs": [],
   "source": [
    "def runMeanFast(x, N):\n",
    "    return np.convolve(x, np.ones((N,))/N, mode='valid')\n",
    "\n",
    "def safeSigmoid(x, eps=0.0):\n",
    "    y = 1.0/(1.0 + np.exp(-x))\n",
    "    # przytnij od dolu i gory\n",
    "    if eps > 0:\n",
    "        y[y < eps] = eps\n",
    "        y[y > 1 - eps] = 1 - eps\n",
    "    return y\n",
    "\n",
    "def h(theta, X, eps=0.0):\n",
    "    return safeSigmoid(X*theta, eps)\n",
    "\n",
    "def J(h,theta,X,y):\n",
    "    m = len(y)\n",
    "    f = h(theta, X, eps=10**-7)\n",
    "    return -np.sum(np.multiply(y, np.log(f)) + \n",
    "                   np.multiply(1 - y, np.log(1 - f)), axis=0)/m\n",
    "\n",
    "def dJ(h,theta,X,y):\n",
    "    return 1.0/len(y)*(X.T*(h(theta,X)-y))\n",
    "\n",
    "def softmax(X):\n",
    "    X128 = X.astype(np.float128)\n",
    "    return np.exp(X128)/np.sum(np.exp(X128))"
   ]
  },
  {
   "cell_type": "markdown",
   "metadata": {
    "slideshow": {
     "slide_type": "slide"
    }
   },
   "source": [
    "## Wykład 07\n",
    "\n",
    "# Metody optymalizacji\n",
    "\n",
    "* Warianty algorytmu GD*\n",
    "* Metody zbiorcze\n",
    "* Urozmaicenie metod"
   ]
  },
  {
   "cell_type": "markdown",
   "metadata": {
    "slideshow": {
     "slide_type": "slide"
    }
   },
   "source": [
    "# Déjà vu: Gradient Descent i regresja logistyczna"
   ]
  },
  {
   "cell_type": "markdown",
   "metadata": {
    "slideshow": {
     "slide_type": "subslide"
    }
   },
   "source": [
    "## Regresja logistyczna - model\n",
    "\n",
    "Model regresji logistycznej:\n",
    "\n",
    "$$h_\\theta(X) = g(X\\theta) = \\dfrac{1}{1+e^{-X\\theta}}$$\n"
   ]
  },
  {
   "cell_type": "markdown",
   "metadata": {
    "slideshow": {
     "slide_type": "subslide"
    }
   },
   "source": [
    "## Regresja logistyczna - Funkcja kosztu\n",
    "\n",
    "Funkcja kosztu dla regresji logistycznej:\n",
    "$$\\small\n",
    "J(\\theta) = -\\dfrac{1}{m} [\\sum_{i=1}^{m} y^{(i)} \\log h_\\theta(x^{(i)})+ (1-y^{(i)}) \\log (1-h_\\theta(x^{(i)}))]$$\n",
    "\n",
    "Gradient funkcji kosztu:\n",
    "\n",
    "$$\\nabla J(\\theta) = \\frac{1}{|\\vec y|} X^T\\left(h_\\theta(X)-\\vec y\\right)$$"
   ]
  },
  {
   "cell_type": "markdown",
   "metadata": {
    "slideshow": {
     "slide_type": "subslide"
    }
   },
   "source": [
    "## (Batch) Gradient descent \n",
    "\n",
    "\n",
    "W postaci wektorwej:\n",
    "\n",
    "$$ \\theta_{t+1} = \\theta_{t} - \\alpha \\nabla J(\\theta_{t}) $$\n",
    "\n",
    "lub iteracyjnej:\n",
    "\n",
    "$$\n",
    "\\begin{array}{rcll}\n",
    "\\theta_{t+1,j} & := & \\theta_{t,j} - \\alpha \\dfrac{\\partial}{\\partial\\theta_{t,j}}J(\\theta_t) & \\;j=0,\\ldots,n\\\\ \n",
    "\\end{array}\n",
    "$$\n",
    "\n"
   ]
  },
  {
   "cell_type": "markdown",
   "metadata": {
    "slideshow": {
     "slide_type": "subslide"
    }
   },
   "source": [
    "## Dla regresji logistycznej\n",
    "\n",
    "Wykonaj określoną liczbę razy:\n",
    "\n",
    "$$\\small\n",
    "\\begin{array}{rcll}\\small\n",
    "\\theta_{t+1,j} & := & \\theta_{t,j} - \\alpha \\dfrac{1}{m}\\displaystyle\\sum_{i=1}^m (h_{\\theta_{t,j}}(x^{(i)})-y^{(i)})x^{(i)}& j=0,\\ldots,n\\\\ \\\\ \n",
    "\\end{array}\n",
    "$$"
   ]
  },
  {
   "cell_type": "markdown",
   "metadata": {
    "slideshow": {
     "slide_type": "slide"
    }
   },
   "source": [
    "## Część 1.\n",
    "# Warianty algorytmu Gradient Descent"
   ]
  },
  {
   "cell_type": "markdown",
   "metadata": {
    "hide_input": true,
    "slideshow": {
     "slide_type": "subslide"
    }
   },
   "source": [
    "**Gradient descent:**\n",
    "\n",
    "* Powtórz określoną liczbę razy (liczba epok):\n",
    "$$\n",
    "\\begin{equation}\n",
    "\\theta_{t+1,j} := \\theta_{t,j} - \\alpha \\dfrac{1}{m}\\displaystyle\\sum_{i=1}^m (h_{\\theta_{t,j}}(x^{(i)})-y^{(i)})x^{(i)}\\\\ \n",
    "(\\textrm{dla } j=0,\\ldots,n)\\\\\n",
    "\\end{equation}\n",
    "$$"
   ]
  },
  {
   "cell_type": "markdown",
   "metadata": {
    "slideshow": {
     "slide_type": "fragment"
    }
   },
   "source": [
    "_Epoka_ to jednokrotne przejście przez wszystkie dane uczące."
   ]
  },
  {
   "cell_type": "markdown",
   "metadata": {
    "slideshow": {
     "slide_type": "subslide"
    }
   },
   "source": [
    "**Stochastic Gradient Descent:**\n",
    "\n",
    "* Randomizuj dane treningowe\n",
    "* Powtórz określoną liczbę razy (liczba epok):\n",
    "  * Powtórz dla każdego $i=1,\\dots,m$:\n",
    "$$\n",
    "\\begin{equation}\n",
    "\\theta_{t+1,j} := \\theta_{t,j} - \\alpha (h_{\\theta_{t,j}}(x^{(i)})-y^{(i)})x^{(i)} \\\\\n",
    "(\\textrm{dla } j=0,\\ldots,n)\\\\\n",
    "\\end{equation}\n",
    "$$"
   ]
  },
  {
   "cell_type": "markdown",
   "metadata": {
    "slideshow": {
     "slide_type": "fragment"
    }
   },
   "source": [
    "_Randomizacja danych_ to losowe potasowanie przykładów uczących (wspólnie z odpowiedziami). "
   ]
  },
  {
   "cell_type": "markdown",
   "metadata": {
    "slideshow": {
     "slide_type": "subslide"
    }
   },
   "source": [
    "#### Dyskusja:\n",
    "\n",
    "* Ile uaktualnień parametru $\\theta$ wykonuje algorytm SGD podczas jednej epoki? \n",
    "* Ile uaktualnień wykonuje algorytm (Batch) GD?\n",
    "* Co daje randomizacja danych w przypadku SGD?\n",
    "* Czy randomizacja może pomóc w GD?"
   ]
  },
  {
   "cell_type": "markdown",
   "metadata": {
    "slideshow": {
     "slide_type": "subslide"
    }
   },
   "source": [
    "**Mini-Batch Gradient Descent:**\n",
    "\n",
    "* Ustal rozmiar wsadu (\"batch\") $b \\le m$ \n",
    "* Randomizuj dane treningowe\n",
    "* Powtórz określoną liczbę razy (liczba epok):\n",
    "  * Powtórz dla każdego $i=1,1+b,1+2b,\\dots,m-b+1$:\n",
    "$$\n",
    "\\begin{equation}\n",
    "\\theta_{t+1,j} := \\theta_{t,j} - \\alpha \\dfrac{1}{b} \\displaystyle\\sum_{k=i}^{i+b-1} (h_{\\theta_{t,j}}(x^{(k)})-y^{(k)})x^{(k)} \\\\\n",
    "(\\textrm{dla } j=0,\\ldots,n)\\\\\n",
    "\\end{equation}\n",
    "$$"
   ]
  },
  {
   "cell_type": "markdown",
   "metadata": {
    "slideshow": {
     "slide_type": "fragment"
    }
   },
   "source": [
    "Typowe wartości dla $b$ to od kilku przykładów do kilkuset, tj. małe w porównaniu do $m$. "
   ]
  },
  {
   "cell_type": "markdown",
   "metadata": {
    "slideshow": {
     "slide_type": "subslide"
    }
   },
   "source": [
    "### Dyskusja:\n",
    "\n",
    "* Znając $m$ i $b$, ile razy zostanie uaktualniony parametr $\\theta$?\n",
    "* Jak mają się SGD oraz GD do Mini-Batch SGD?"
   ]
  },
  {
   "cell_type": "markdown",
   "metadata": {
    "slideshow": {
     "slide_type": "subslide"
    }
   },
   "source": [
    "## Mini-Batch SGD - implementacja"
   ]
  },
  {
   "cell_type": "code",
   "execution_count": 7,
   "metadata": {
    "collapsed": true,
    "slideshow": {
     "slide_type": "skip"
    }
   },
   "outputs": [],
   "source": [
    "def MiniBatchSGD(h, fJ, fdJ, theta, X, y, \n",
    "        alpha=0.001, maxEpochs=1.0, batchSize=100, \n",
    "        logError=True):\n",
    "    errorsX, errorsY = [], []\n",
    "    \n",
    "    m, n = X.shape\n",
    "    start, end = 0, batchSize\n",
    "    \n",
    "    maxSteps = (m * float(maxEpochs)) / batchSize\n",
    "    for i in range(int(maxSteps)):\n",
    "        XBatch, yBatch =  X[start:end,:], y[start:end,:]\n",
    "\n",
    "        theta = theta - alpha * fdJ(h, theta, XBatch, yBatch)\n",
    "        \n",
    "        if logError:\n",
    "            errorsX.append(float(i*batchSize)/m)\n",
    "            errorsY.append(fJ(h, theta, XBatch, yBatch).item())\n",
    "        \n",
    "        if start + batchSize < m:\n",
    "            start += batchSize\n",
    "        else:\n",
    "            start = 0\n",
    "        end = min(start + batchSize, m)\n",
    "        \n",
    "    return theta, (errorsX, errorsY)"
   ]
  },
  {
   "cell_type": "markdown",
   "metadata": {
    "slideshow": {
     "slide_type": "subslide"
    }
   },
   "source": [
    "## Porównanie GD, SGD, Mini-Batch SGD \n",
    "\n",
    "Na przykładzie MNIST"
   ]
  },
  {
   "cell_type": "code",
   "execution_count": 8,
   "metadata": {
    "collapsed": false,
    "hide_input": false,
    "input_collapsed": true,
    "slideshow": {
     "slide_type": "fragment"
    }
   },
   "outputs": [
    {
     "data": {
      "image/png": "[encoded data removed]",
      "text/plain": [
       "<matplotlib.figure.Figure at 0x7fc4ad165940>"
      ]
     },
     "metadata": {},
     "output_type": "display_data"
    }
   ],
   "source": [
    "import os\n",
    "import struct\n",
    "import numpy as np\n",
    "from matplotlib import pyplot\n",
    "import matplotlib as mpl\n",
    "\n",
    "np.seterr(over=\"ignore\")\n",
    "%matplotlib inline\n",
    "\n",
    "def readMnist(dataset = \"training\", path = \".\"):\n",
    "    \"\"\"\n",
    "    Python function for importing the MNIST data set.  It returns an iterator\n",
    "    of 2-tuples with the first element being the label and the second element\n",
    "    being a numpy.uint8 2D array of pixel data for the given image.\n",
    "    \"\"\"\n",
    "\n",
    "    if dataset is \"training\":\n",
    "        fname_img = os.path.join(path, 'train-images-idx3-ubyte')\n",
    "        fname_lbl = os.path.join(path, 'train-labels-idx1-ubyte')\n",
    "    elif dataset is \"testing\":\n",
    "        fname_img = os.path.join(path, 't10k-images-idx3-ubyte')\n",
    "        fname_lbl = os.path.join(path, 't10k-labels-idx1-ubyte')\n",
    "    else:\n",
    "        raise(ValueError, \"dataset must be 'testing' or 'training'\")\n",
    "\n",
    "    # Load everything in some numpy arrays\n",
    "    with open(fname_lbl, 'rb') as flbl:\n",
    "        magic, num = struct.unpack(\">II\", flbl.read(8))\n",
    "        lbl = np.fromfile(flbl, dtype=np.int8)\n",
    "\n",
    "    with open(fname_img, 'rb') as fimg:\n",
    "        magic, num, rows, cols = struct.unpack(\">IIII\", fimg.read(16))\n",
    "        img = np.fromfile(fimg, dtype=np.uint8).reshape(len(lbl), rows, cols)\n",
    "\n",
    "    get_img = lambda idx: (lbl[idx], img[idx])\n",
    "\n",
    "    # Create an iterator which returns each image in turn\n",
    "    for i in range(len(lbl)):\n",
    "        yield get_img(i)\n",
    "\n",
    "def showImage(image, r=1, c=1, i=1, fig=None):\n",
    "    \"\"\"\n",
    "    Render a given numpy.uint8 2D array of pixel data.\n",
    "    \"\"\"\n",
    "    if fig is None:\n",
    "        fig = pyplot.figure()\n",
    "    ax = fig.add_subplot(r,c,i)\n",
    "    ax.set_xticks([]) \n",
    "    ax.set_yticks([]) \n",
    "    imgplot = ax.imshow(image, cmap=mpl.cm.Greys)\n",
    "    imgplot.set_interpolation('nearest')\n",
    "    if fig is None:\n",
    "        ax.xaxis.set_ticks_position('top')\n",
    "        ax.yaxis.set_ticks_position('left')\n",
    "        pyplot.show()    \n",
    "    \n",
    "def showImageGrid(data, r, c):\n",
    "    fig = pyplot.figure(figsize=(c*1.5,r*1.5))\n",
    "    for i,row in enumerate(data[:r*c]):\n",
    "        image = row[:, 1:].reshape(28,28)\n",
    "        showImage(image, r, c, i+1, fig)\n",
    "    pyplot.show()\n",
    "\n",
    "    \n",
    "def toMatrix(data, maxItems=60000):\n",
    "    datalist = [t for t in data]\n",
    "    np.random.shuffle(datalist) # randomizacja danych\n",
    "    m = len(datalist)\n",
    "    n = 28 * 28 + 1\n",
    "    X = np.matrix(np.zeros(m * n)).reshape(m, n)\n",
    "    Y = np.matrix(np.zeros(m)).reshape(m, 1)\n",
    "    for i, (label, image) in enumerate(datalist[:maxItems]):\n",
    "        X[i, 0] = 1 # bias term\n",
    "        X[i, 1:] = image.reshape(28*28,)\n",
    "        Y[i] = label\n",
    "    return X, Y\n",
    "\n",
    "def mapY(y, cls):\n",
    "    m = len(y)\n",
    "    yBi = np.matrix(np.zeros(m)).reshape(m, 1)\n",
    "    yBi[y == cls] = 1.\n",
    "    return yBi\n",
    "\n",
    "def indicatorMatrix(y):\n",
    "    classes = np.unique(y.tolist())\n",
    "    m = len(y)\n",
    "    k = len(classes)\n",
    "    Y = np.matrix(np.zeros((m, k)))\n",
    "    for i, cls in enumerate(classes):\n",
    "        Y[:,i] = mapY(y, cls)\n",
    "    return Y\n",
    "\n",
    "dataDir = \"../../labs/06\"\n",
    "\n",
    "mnistTrain = readMnist(\"training\", path=dataDir)\n",
    "mnistTest = readMnist(\"testing\", path=dataDir)\n",
    "\n",
    "XTrain, YTrain = toMatrix(mnistTrain)\n",
    "XTest, YTest = toMatrix(mnistTest)\n",
    "\n",
    "YTrain = indicatorMatrix(YTrain)\n",
    "YTest = indicatorMatrix(YTest)\n",
    "\n",
    "k = YTest.shape[1]\n",
    "\n",
    "showImageGrid(XTrain, 4, 8)"
   ]
  },
  {
   "cell_type": "markdown",
   "metadata": {
    "slideshow": {
     "slide_type": "subslide"
    }
   },
   "source": [
    "## Krzywe uczenia <br/>dla binarnej regresji logistycznej\n",
    "### (liczba 8)"
   ]
  },
  {
   "cell_type": "markdown",
   "metadata": {
    "collapsed": false,
    "hide_input": false,
    "input_collapsed": false,
    "scrolled": false,
    "slideshow": {
     "slide_type": "-"
    }
   },
   "source": [
    "<img src=\"sgd1.png\" />"
   ]
  },
  {
   "cell_type": "markdown",
   "metadata": {
    "slideshow": {
     "slide_type": "subslide"
    }
   },
   "source": [
    "## Uśrednione krzywe uczenia <br/>dla binarnej regresji logistycznej\n",
    "#### (liczba 8)"
   ]
  },
  {
   "cell_type": "markdown",
   "metadata": {
    "collapsed": false,
    "hide_input": false,
    "input_collapsed": true,
    "slideshow": {
     "slide_type": "-"
    }
   },
   "source": [
    "<img src=\"sgd2.png\" />"
   ]
  },
  {
   "cell_type": "markdown",
   "metadata": {
    "slideshow": {
     "slide_type": "subslide"
    }
   },
   "source": [
    "### SGD vs GD\n",
    "\n",
    "* SGD jest znacznie szybszy i często daje lepsze wyniki\n",
    "* Warianty SGD, gdzie $b \\ll m$ (znacząco mniejsze) nazywa się też algorytmami **on-line**\n",
    "* Dane uczące są bardzo duże, a nawet nieograniczone (*uczenie on-line*)"
   ]
  },
  {
   "cell_type": "markdown",
   "metadata": {
    "slideshow": {
     "slide_type": "subslide"
    }
   },
   "source": [
    "### Dyskusja \n",
    "* Czy SGD można przerwać i wznowić? Jeśli tak, kiedy?\n",
    "* O co trzeba zadbać? Co trzeba zapisać?\n",
    "* W najgorszym przypadku, ile informacji stracimy?\n",
    "* Czy można wykorzystać częsciowe wyniki?\n"
   ]
  },
  {
   "cell_type": "markdown",
   "metadata": {
    "slideshow": {
     "slide_type": "subslide"
    }
   },
   "source": [
    "## Google: Downpour SGD (J. Dean ***et al.***)\n",
    "<br/>\n",
    "<img src=\"downpour.png\" width=\"85%\"/>"
   ]
  },
  {
   "cell_type": "markdown",
   "metadata": {
    "slideshow": {
     "slide_type": "subslide"
    }
   },
   "source": [
    "## Inne warianty SGD:\n",
    "\n",
    "* Nesterov accelerated gradient (Nesterov, 1983)\n",
    "* SGD with Momentum (Rumelhart *et al.*, 1986)\n",
    "* AdaGrad (Duchi *et al.*, 2011)\n",
    "* Downpour SGD (Dean *et al.*, 2012)\n",
    "* AdaDelta (Google, Zeiler *et al.*, 2012)\n",
    "* RMSprop (Hinton *et al.*, 2012)\n",
    "* v-SGD-{l,g,b} (LeCunn *et al.*, 2012)\n",
    "* Adam (Kingma & Ba, 2015)\n",
    "* ...\n",
    "\n",
    "Od tej pory algorytm GD będziemy traktowali jako wariant SGD."
   ]
  },
  {
   "cell_type": "markdown",
   "metadata": {
    "slideshow": {
     "slide_type": "slide"
    }
   },
   "source": [
    "# AdaGrad\n",
    "\n",
    "J. Duchi *et al.* (2011), *Adaptive Subgradient Methods for Online Learning and Stochastic Optimization*. Journal of Machine Learning Research 12. pp. 2121-2159"
   ]
  },
  {
   "cell_type": "markdown",
   "metadata": {
    "slideshow": {
     "slide_type": "subslide"
    }
   },
   "source": [
    "## Problemy z naiwnymi metodami SGD\n",
    "\n",
    "* Trudno dobrać rozmiar kroku $\\alpha$\n",
    "* Po zmianie innych parametrów, np. rozmiaru wsadu lub liczby epok, trzeba często na nowo dostroić $\\alpha$\n",
    "* SGD nie radzi sobie zbyt dobrze z cechami nieznormalizowanymi"
   ]
  },
  {
   "cell_type": "markdown",
   "metadata": {
    "slideshow": {
     "slide_type": "fragment"
    }
   },
   "source": [
    "**Dwa usprawnienia**:\n",
    "\n",
    "1. Różne wartości $\\alpha$ w trakcie uczenia\n",
    "1. Osobne $\\alpha$ dla każdego parametru"
   ]
  },
  {
   "cell_type": "markdown",
   "metadata": {
    "slideshow": {
     "slide_type": "subslide"
    }
   },
   "source": [
    "**SGD** (dowolny wariant) ma jeden stały parametr $\\alpha$.\n",
    "\n",
    "Niech $\\mathbf{g}_t = \\nabla J(\\mathbf{\\theta}_t)$, czyli $g_{t,j} = \\dfrac{\\partial}{\\partial\\theta_{t,j}}J(\\theta_t)$, wtedy SGD ma postać:\n",
    "\n",
    "$$\n",
    "\\begin{equation}\n",
    "\\theta_{t+1} := \\theta_{t} - \\alpha \\mathbf{g}_t \\\\\n",
    "\\end{equation}\n",
    "$$"
   ]
  },
  {
   "cell_type": "markdown",
   "metadata": {
    "slideshow": {
     "slide_type": "subslide"
    }
   },
   "source": [
    "W ** AdaGrad ** zastępujemy skalar $\\alpha$ samostrojącymi się krokami $\\alpha_{t,j}$ dla każdej cechy $x_j$ i każdej iteracji $t$:\n",
    "\n",
    "$$\\alpha_{t,j} = \\dfrac{\\alpha}{\\sqrt{\\sum_{t^{\\prime}=1}^tg_{t^{\\prime},j}^2}}$$\n",
    "\n",
    "gdzie $\\sum_{t^{\\prime}=1}^tg_{t^{\\prime},j}^2$ jest sumą kwadratów wszystkich dotychczasowych gradientów (gradienty historyczne)."
   ]
  },
  {
   "cell_type": "markdown",
   "metadata": {
    "slideshow": {
     "slide_type": "subslide"
    }
   },
   "source": [
    "Oznaczmy\n",
    "\n",
    "$$G_t^{-\\frac{1}{2}} = \\frac{1}{\\sqrt{\\sum_{t^{\\prime}=1}^tg_{t^{\\prime},j}^2}},$$\n",
    "wtedy\n",
    "$$\n",
    "\\theta_{t+1} = \\theta_t - \\alpha G_t^{-\\frac{1}{2}}\\odot \\mathbf{g}_t,\n",
    "$$\n",
    "\n",
    "gdzie $\\odot$ to mnożenie elementowe."
   ]
  },
  {
   "cell_type": "markdown",
   "metadata": {
    "slideshow": {
     "slide_type": "subslide"
    }
   },
   "source": [
    "## Intuicja\n",
    "\n",
    "Rzadkie cechy są nośnikami ważnych informacji (i odwrotnie: cecha, która występuje zawsze, mało wnosi).\n",
    "\n",
    "Np. MNIST: piksel, który jest bardzo często czarny, nie pomaga rozstrzygnąć, jaką widzimy liczbę:\n",
    "<img src=\"mean-mnist-img.png\" />"
   ]
  },
  {
   "cell_type": "markdown",
   "metadata": {
    "slideshow": {
     "slide_type": "subslide"
    }
   },
   "source": [
    "## AdaGrad\n",
    "\n",
    "* AdaGrad przydziela częstym cechom wysokie wagi (czyli małe kroki $\\alpha_{t,j}$) i odwrotnie.\n",
    "* Występująca cecha ma niezerowy gradient, zatem sumując kw. gradientów, zliczamy cechy.\n",
    "* Wysokie $\\alpha_{t,j}$ w chwili wystąpienia cechy $x_j$ oznacza \"Zauważ mnie!\".\n",
    "* Możemy ustawić $\\alpha = 1.0$ dla dowolnego problemu."
   ]
  },
  {
   "cell_type": "markdown",
   "metadata": {
    "slideshow": {
     "slide_type": "subslide"
    }
   },
   "source": [
    "## AdaGrad - implementacja (przedstawiona na wykładzie)"
   ]
  },
  {
   "cell_type": "code",
   "execution_count": 9,
   "metadata": {
    "collapsed": true,
    "slideshow": {
     "slide_type": "-"
    }
   },
   "outputs": [],
   "source": [
    "# Uwaga! To nie jest kompletna funkcja!\n",
    "\n",
    "def SGD(h, fJ, fdJ, theta, X, y, \n",
    "        alpha=0.001, maxEpochs=1.0, batchSize=100, \n",
    "        adaGrad=False, logError=False):\n",
    "    m, n = X.shape\n",
    "    start, end = 0, batchSize\n",
    "    \n",
    "    maxSteps = (m * float(maxEpochs)) / batchSize\n",
    "    for i in range(int(maxSteps)):\n",
    "        XBatch, yBatch =  X[start:end,:], y[start:end,:]\n",
    "\n",
    "        theta = theta - fdJ(h, theta, XBatch, yBatch)\n",
    "        \n",
    "        if start + batchSize < m:\n",
    "            start += batchSize\n",
    "        else:\n",
    "            start = 0\n",
    "        end = min(start + batchSize, m)\n",
    "        \n",
    "    return theta"
   ]
  },
  {
   "cell_type": "markdown",
   "metadata": {
    "input_collapsed": false,
    "slideshow": {
     "slide_type": "subslide"
    }
   },
   "source": [
    "## Test na MNIST \n",
    "\n",
    "Ponownie binarny klasyfikator dla cyfry 8"
   ]
  },
  {
   "cell_type": "markdown",
   "metadata": {
    "collapsed": false,
    "hide_input": false,
    "input_collapsed": true
   },
   "source": [
    "<img src=\"adagrad.png\" />"
   ]
  },
  {
   "cell_type": "markdown",
   "metadata": {
    "input_collapsed": true,
    "slideshow": {
     "slide_type": "subslide"
    }
   },
   "source": [
    "## Jakość klasyfikacji na zbiorze testowym"
   ]
  },
  {
   "cell_type": "code",
   "execution_count": 14,
   "metadata": {
    "collapsed": true,
    "slideshow": {
     "slide_type": "skip"
    }
   },
   "outputs": [],
   "source": [
    "def classify(thetas, X):\n",
    "    regs = np.array([(X*theta).item() for theta in thetas])\n",
    "    probs = softmax(regs)\n",
    "    return np.argmax(probs), probs\n",
    "\n",
    "def accuracy(models, XTest, YTest, k=10):\n",
    "    acc = [0 for i in range(len(models))]\n",
    "    cls = [0 for i in range(len(models))]\n",
    "\n",
    "    YTestCls = YTest * np.matrix((np.arange(k))).T\n",
    "    for i in range(len(YTestCls)):\n",
    "        for j, model in enumerate(models):\n",
    "            cls[j], probs = classify(model, XTest[i])\n",
    "        correct = int(YTestCls[i].item())\n",
    "    \n",
    "        for j in range(len(cls)):\n",
    "            acc[j] += correct == cls[j]\n",
    "        \n",
    "    n = len(XTest)\n",
    "    return [a / float(n) for a in acc]\n",
    "\n",
    "def trainLogReg(X, Y, **kwargs):\n",
    "    n = X.shape[1]\n",
    "    print(kwargs)\n",
    "    thetas = []\n",
    "    for c in range(Y.shape[1]):\n",
    "        YBi = Y[:,c]\n",
    "        theta = np.matrix(np.random.random(n)).reshape(n,1)\n",
    "        thetaBest = SGD(h, J, dJ, theta, \n",
    "                        X, YBi, \n",
    "                        **kwargs)\n",
    "        print(\".\", end=\"\")\n",
    "        thetas.append(thetaBest)\n",
    "    print(\"Done\")\n",
    "    return thetas"
   ]
  },
  {
   "cell_type": "code",
   "execution_count": 15,
   "metadata": {
    "collapsed": true,
    "slideshow": {
     "slide_type": "skip"
    }
   },
   "outputs": [],
   "source": [
    "epochs = 10\n",
    "batchSize = 1000"
   ]
  },
  {
   "cell_type": "code",
   "execution_count": 16,
   "metadata": {
    "collapsed": false,
    "hide_input": true,
    "input_collapsed": true,
    "slideshow": {
     "slide_type": "-"
    }
   },
   "outputs": [
    {
     "name": "stdout",
     "output_type": "stream",
     "text": [
      "{'adaGrad': False, 'batchSize': 1000, 'maxEpochs': 10, 'alpha': 0.1}\n",
      "..........Done\n",
      "{'adaGrad': False, 'batchSize': 1000, 'maxEpochs': 10, 'alpha': 0.01}\n",
      "..........Done\n",
      "{'adaGrad': False, 'batchSize': 1000, 'maxEpochs': 10, 'alpha': 0.001}\n",
      "..........Done\n",
      "{'adaGrad': True, 'batchSize': 1000, 'maxEpochs': 10, 'alpha': 1}\n",
      "..........Done\n",
      "Acc 0 = 0.8572\n",
      "Acc 1 = 0.7132\n",
      "Acc 2 = 0.7692\n",
      "Acc 3 = 0.7927\n"
     ]
    }
   ],
   "source": [
    "models = [\n",
    "    trainLogReg(XTrain, YTrain, alpha=0.1, maxEpochs=epochs, \n",
    "                batchSize=batchSize, adaGrad=False),\n",
    "    trainLogReg(XTrain, YTrain, alpha=0.01, maxEpochs=epochs, \n",
    "                batchSize=batchSize, adaGrad=False),\n",
    "    trainLogReg(XTrain, YTrain, alpha=0.001, maxEpochs=epochs, \n",
    "                batchSize=batchSize, adaGrad=False),\n",
    "    trainLogReg(XTrain, YTrain, alpha=1, maxEpochs=epochs, \n",
    "                batchSize=batchSize, adaGrad=True)\n",
    "]\n",
    "\n",
    "acc = accuracy(models, XTest, YTest)\n",
    "for j in range(len(models)):\n",
    "    print(\"Acc\", j, \"=\", acc[j])"
   ]
  },
  {
   "cell_type": "markdown",
   "metadata": {
    "input_collapsed": true,
    "slideshow": {
     "slide_type": "subslide"
    }
   },
   "source": [
    "## Dlaczego nie korzystamy z AdaGrad zawsze?"
   ]
  },
  {
   "cell_type": "markdown",
   "metadata": {
    "slideshow": {
     "slide_type": "-"
    }
   },
   "source": [
    "* Wyniki badawcze wskazują na to, że często **starannie** dobrane $\\alpha$ daje lepsze wyniki na zbiorze testowym\n",
    "* Można też dynamicznie zmieniać $\\alpha$ (np. jeśli błąd się nie zmniejszył przez $n$ iteracji, podziel $\\alpha$ przez 2, itp.)\n",
    "* Praktycy uczenia maszynowego nie lubią braku kontroli"
   ]
  },
  {
   "cell_type": "markdown",
   "metadata": {
    "slideshow": {
     "slide_type": "fragment"
    }
   },
   "source": [
    "**AdaGrad**: dobry algorytm na dobry początek"
   ]
  },
  {
   "cell_type": "markdown",
   "metadata": {
    "slideshow": {
     "slide_type": "subslide"
    }
   },
   "source": [
    "## Jaką metodę optymalizacji wybrać?"
   ]
  },
  {
   "cell_type": "markdown",
   "metadata": {},
   "source": [
    "<div style=\"text-align:center\">\n",
    "<img src=\"contours_evaluation_optimizers.gif\" style=\"display:inline-block; width:45%\" />\n",
    "<img src=\"saddle_point_evaluation_optimizers.gif\" style=\"display:inline-block; width:50%\"/>\n",
    "</div>\n",
    "\n",
    "Źródło: http://cs231n.github.io/neural-networks-3/"
   ]
  },
  {
   "cell_type": "markdown",
   "metadata": {
    "input_collapsed": true,
    "slideshow": {
     "slide_type": "slide"
    }
   },
   "source": [
    "## Cześć 2.\n",
    "\n",
    "# Metody zbiorcze"
   ]
  },
  {
   "cell_type": "markdown",
   "metadata": {
    "slideshow": {
     "slide_type": "subslide"
    }
   },
   "source": [
    "**Metody zbiorcze** (_ensemble methods_) używają wielu modeli uczenia maszynowego w celu uzyskania lepszej skuteczności niż mogłaby być osiągnięta przez każdy z tych modeli osobno."
   ]
  },
  {
   "cell_type": "markdown",
   "metadata": {
    "slideshow": {
     "slide_type": "fragment"
    }
   },
   "source": [
    "Dwa \"parametry\":\n",
    "\n",
    "1. Dobór modelu\n",
    "1. Agregacja wyników"
   ]
  },
  {
   "cell_type": "markdown",
   "metadata": {
    "input_collapsed": false,
    "slideshow": {
     "slide_type": "subslide"
    }
   },
   "source": [
    "## Uśrednianie prawdopodobieństw"
   ]
  },
  {
   "cell_type": "markdown",
   "metadata": {
    "slideshow": {
     "slide_type": "-"
    }
   },
   "source": [
    "Mamy $M=3$ modele, które dla $c=1\\dots5$ klas zwróciły prawdopodobieństwa:\n",
    "\n",
    "* $M_1$: `[0.1, 0.4, 0.5, 0.0, 0.0]`\n",
    "* $M_2$: `[0.1, 0.6, 0.2, 0.0, 0.1]`\n",
    "* $M_3$: `[0.1, 0.3, 0.4, 0.0, 0.2]`\n",
    "\n",
    "Która klasa zostanie wybrana wg średnich prawdopodobieństw dla każdej klasy?"
   ]
  },
  {
   "cell_type": "markdown",
   "metadata": {
    "input_collapsed": true,
    "slideshow": {
     "slide_type": "subslide"
    }
   },
   "source": [
    "## Uśrednianie prawdopodobieństw z randomizacją\n",
    "\n",
    "Tj. z przetasowaniem zbioru uczącego przed trenowaniem każdego modelu"
   ]
  },
  {
   "cell_type": "markdown",
   "metadata": {
    "input_collapsed": false,
    "slideshow": {
     "slide_type": "subslide"
    }
   },
   "source": [
    "## Głosowanie klas\n",
    "Nie zapominamy o randomizacji."
   ]
  },
  {
   "cell_type": "markdown",
   "metadata": {
    "slideshow": {
     "slide_type": "fragment"
    }
   },
   "source": [
    "Mamy $M=3$ modele, które dla $c=1\\dots5$ klas zwróciły prawdopodobieństwa:\n",
    "\n",
    "* $M_1$: `[0.1, 0.4, 0.5, 0.0, 0.0]`\n",
    "* $M_2$: `[0.1, 0.6, 0.2, 0.0, 0.1]`\n",
    "* $M_3$: `[0.1, 0.3, 0.4, 0.0, 0.2]`\n",
    "\n",
    "Która klasa zostanie wybrana wg liczby głosów na każdą z klas?"
   ]
  },
  {
   "cell_type": "markdown",
   "metadata": {
    "input_collapsed": true,
    "slideshow": {
     "slide_type": "subslide"
    }
   },
   "source": [
    "## BAGGING = Bootstrap AGGregatING \n",
    "To samo co głosowanie klas, ale podczas randomizacji wybieramy $m$ przykładów **z powtórzeniami** (bootstrapping)."
   ]
  },
  {
   "cell_type": "markdown",
   "metadata": {
    "slideshow": {
     "slide_type": "subslide"
    }
   },
   "source": [
    "## Ważony BAGGING"
   ]
  },
  {
   "cell_type": "markdown",
   "metadata": {
    "slideshow": {
     "slide_type": "subslide"
    }
   },
   "source": [
    "## Ważenie podczas głosowania/uśredniania\n",
    "\n",
    "* W bagging, losujemy $m$ przykładów z **powtórzeniami**.\n",
    "* Prawie 40% danych nie jest wykorzystywanych, ponieważ $\\lim_{n \\rightarrow \\infty}\\left(1-\\frac{1}{n}\\right)^n = e^{-1} \\approx 0.368 $.\n",
    "* Te dane można wykorzystać jako **zestaw walidacyjny** i obliczyć **na nim** błąd $J_w(\\theta)$.\n",
    "* Mając $M$ klasyfikatorów, dla $i$-tego klasyfikatora obliczamy $w_i$:\n",
    "\n",
    "$$ w_i = \\dfrac{\\exp(-J_w(\\theta_i))}{\n",
    "\\sum_{j=1}^M \\exp(-J_w(\\theta_j))} $$\n"
   ]
  },
  {
   "cell_type": "markdown",
   "metadata": {
    "slideshow": {
     "slide_type": "subslide"
    }
   },
   "source": [
    "* Klasyfikacja przez obliczenie **ważonych średnich prawdopodobieństw** (zbiór klas $C$, $y_i$ to odpowiedź $i$-tego klasyfikatora):\n",
    "$$y = \\mathop{\\mathrm{argmax}}_{c \\in C} \\dfrac{w_ip_{c,i}}{\\sum_{j=1}^{M} w_j p_{c,j}} $$\n",
    "gdzie $p_{c,i}$ jest prawdopodobieństwem wyboru klasy $c$ przez $i$-ty klasyfikator.\n"
   ]
  },
  {
   "cell_type": "markdown",
   "metadata": {
    "slideshow": {
     "slide_type": "subslide"
    }
   },
   "source": [
    "* Klasyfikacja przez **ważone głosowanie** (zbiór klas $C$, $y_i$ to odpowiedź $i$-tego klasyfikatora):\n",
    "$$y = \\mathop{\\mathrm{argmax}}_{c \\in C} \\sum_{i=1}^M w_i  I(c = y_i) $$\n",
    "gdzie \n",
    "$$I(A) = \\left\\{\\begin{array}{cl}1 & \\textrm{gdy zachodzi zdarzenie A}\\\\ 0 & \\textrm{wpp.}\\end{array}\\right.$$\n"
   ]
  },
  {
   "cell_type": "markdown",
   "metadata": {
    "slideshow": {
     "slide_type": "subslide"
    }
   },
   "source": [
    "## Boosting\n",
    "\n",
    "Idea:\n",
    "\n",
    "* Budujemy kolejne klasyfikatory, zwiększając istotność tych przykładów trenujących, dla których poprzednie modele radziły sobie **słabiej**.\n",
    "* Może działać lepiej niż bagging, ale metoda wrażliwa na _przetrenowanie_ (więcej na następnym wykładzie).\n",
    "\n",
    "Najbardziej popularny algorytm to Adaboost."
   ]
  },
  {
   "cell_type": "markdown",
   "metadata": {
    "collapsed": true,
    "input_collapsed": true,
    "slideshow": {
     "slide_type": "subslide"
    }
   },
   "source": [
    "## Stacking\n",
    "\n",
    "Idea: \n",
    "* Budujemy $M$ różnych klasyfikatorów.\n",
    "* Budujemy jeden **meta-klasyfikator** na podstawie wyników tych $M$ klasyfikatorów.\n",
    "\n",
    "(Jeśli mamy same regresory logistyczne, to jest to **prawie** dwuwarstwowa sieć neuronowa)"
   ]
  }
 ],
 "metadata": {
  "celltoolbar": "Slideshow",
  "hide_input": false,
  "kernelspec": {
   "display_name": "Python 3",
   "language": "python",
   "name": "python3"
  },
  "language_info": {
   "codemirror_mode": {
    "name": "ipython",
    "version": 3
   },
   "file_extension": ".py",
   "mimetype": "text/x-python",
   "name": "python",
   "nbconvert_exporter": "python",
   "pygments_lexer": "ipython3",
   "version": "3.5.2"
  }
 },
 "nbformat": 4,
 "nbformat_minor": 0
}
