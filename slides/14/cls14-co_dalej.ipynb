{
 "cells": [
  {
   "cell_type": "markdown",
   "metadata": {
    "slideshow": {
     "slide_type": "slide"
    }
   },
   "source": [
    "# Co dalej?\n",
    "\n",
    "Czyli gdzie szukać dalszych informacji o ML i DL?"
   ]
  },
  {
   "cell_type": "markdown",
   "metadata": {
    "slideshow": {
     "slide_type": "slide"
    }
   },
   "source": [
    "## Kursy MOOC\n",
    "\n",
    "**Coursera**\n",
    "\n",
    "* Andrew Ng, _Machine Learning_<br/>\n",
    "https://www.coursera.org/learn/machine-learning\n",
    "* Goeffrey Hinton, _Neural Networks for ML_<br/>\n",
    "https://www.coursera.org/learn/neural-networks\n",
    "* ew. specjalizacja _Machine Learning_<br/>\n",
    "https://www.coursera.org/specializations/machine-learning"
   ]
  },
  {
   "cell_type": "markdown",
   "metadata": {
    "slideshow": {
     "slide_type": "subslide"
    }
   },
   "source": [
    "**Udacity**\n",
    "\n",
    "* Google, _Deep Learning_:<br/>\n",
    "https://www.udacity.com/course/deep-learning--ud730\n",
    "* NVIDIA, _Intro to Parallel Programming_<br/>\n",
    "https://www.udacity.com/nanodegree"
   ]
  },
  {
   "cell_type": "markdown",
   "metadata": {
    "slideshow": {
     "slide_type": "subslide"
    }
   },
   "source": [
    "**Inne źródła**\n",
    "\n",
    "* Andrew Ng, nagrane wyklady klasyczne<br/>\n",
    "https://www.youtube.com/playlist?list=PLA89DCFA6ADACE599\n",
    "* Richard Socher, przetwarzanie języka (zaawansowane)<br/>\n",
    "http://cs224d.stanford.edu/syllabus.html\n",
    "* DL Summar School 2015 (bardzo zaawansowane)<br/>\n",
    "http://videolectures.net/deeplearning2015_montreal/ \n",
    "* ..."
   ]
  },
  {
   "cell_type": "markdown",
   "metadata": {
    "slideshow": {
     "slide_type": "slide"
    }
   },
   "source": [
    "## Wikipedia\n",
    "\n",
    "* https://en.wikipedia.org/wiki/Machine_learning\n",
    "* https://en.wikipedia.org/wiki/Deep_learning\n",
    "* ...\n",
    "\n",
    "<img width=\"40%\" style=\"margin: auto\" src=\"https://i.ytimg.com/vi/eQwM_UJYNII/maxresdefault.jpg\"/>"
   ]
  },
  {
   "cell_type": "markdown",
   "metadata": {
    "slideshow": {
     "slide_type": "slide"
    }
   },
   "source": [
    "## Książki\n",
    "\n",
    "**Książki tradycyjne**\n",
    "\n",
    "* Z perspektywy matematycznej: M. Krzyśko, W. Wołyński, T. Górecki, M. Skorzybut. _Systemy uczące się_. WNT 2008.\n",
    "* Kevin P. Murphy. _Machine Learning: a Probabilistic Perspective_. 2015.\n",
    "* **... niestety często nim książka się ukaże, to już jest trochę przestarzała ;(**\n",
    "\n",
    "**Książki online**\n",
    "* http://neuralnetworksanddeeplearning.com/\n",
    "* http://www.deeplearningbook.org/"
   ]
  },
  {
   "cell_type": "markdown",
   "metadata": {
    "slideshow": {
     "slide_type": "slide"
    }
   },
   "source": [
    "## Artykuły naukowe\n",
    "\n",
    "* Według bibliografii książek podanych powyżej.\n",
    "* Według wpisów na blogach.\n",
    "* Według gotowych kompilacji, np.:\n",
    "  * https://github.com/ChristosChristofidis/awesome-deep-learning\n",
    "  * http://deeplearning.net/reading-list/"
   ]
  },
  {
   "cell_type": "markdown",
   "metadata": {
    "slideshow": {
     "slide_type": "slide"
    }
   },
   "source": [
    "## Dokumentacja w pakietach ML\n",
    "\n",
    "* http://keras.io/\n",
    "* http://scikit-learn.org/stable/\n",
    "* http://pybrain.org/\n",
    "* http://deeplearning.net/software/theano/\n",
    "* https://www.tensorflow.org/\n",
    "* https://github.com/mila-udem/blocks\n",
    "\n",
    "Inne niż Python\n",
    "* http://www.cs.waikato.ac.nz/ml/weka/ (Java)\n",
    "* https://cran.r-project.org/web/views/MachineLearning.html (R)\n",
    "* ..."
   ]
  },
  {
   "cell_type": "markdown",
   "metadata": {
    "slideshow": {
     "slide_type": "slide"
    }
   },
   "source": [
    "## Blogi\n",
    "\n",
    "* http://blog.kaggle.com/\n",
    "* http://blogs.nvidia.com/blog/tag/deep-learning/\n",
    "* http://colah.github.io/ (niektóre świetne wpisy)\n",
    "* http://fastml.com/\n",
    "* http://hunch.net/\n",
    "* http://karpathy.github.io/ (ciekawy wpis: http://karpathy.github.io/2015/05/21/rnn-effectiveness/)\n",
    "* http://techblog.netflix.com/\n",
    "* http://machinelearningmastery.com/blog/\n",
    "* ...\n",
    "\n",
    "A także fora i grupy, np. http://stats.stackexchange.com/"
   ]
  },
  {
   "cell_type": "markdown",
   "metadata": {
    "slideshow": {
     "slide_type": "slide"
    }
   },
   "source": [
    "## Konkursy\n",
    "\n",
    "**Kaggle**\n",
    "\n",
    "* https://www.kaggle.com/\n",
    "* http://blog.kaggle.com/\n",
    "\n",
    "**Numer.ai**\n",
    "\n",
    "* http://numer.ai"
   ]
  }
 ],
 "metadata": {
  "celltoolbar": "Slideshow",
  "hide_input": false,
  "kernelspec": {
   "display_name": "Python 2",
   "language": "python",
   "name": "python2"
  },
  "language_info": {
   "codemirror_mode": {
    "name": "ipython",
    "version": 2
   },
   "file_extension": ".py",
   "mimetype": "text/x-python",
   "name": "python",
   "nbconvert_exporter": "python",
   "pygments_lexer": "ipython2",
   "version": "2.7.12"
  }
 },
 "nbformat": 4,
 "nbformat_minor": 0
}
