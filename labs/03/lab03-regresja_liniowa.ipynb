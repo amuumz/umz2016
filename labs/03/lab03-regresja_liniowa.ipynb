{
 "cells": [
  {
   "cell_type": "markdown",
   "metadata": {},
   "source": [
    "# Regresja jednej zmiennej\n",
    "\n",
    "Plik `fires_thefts.txt` zawiera rzeczywiste dane zebrane przez _U.S. Commission on Civil Rights_, przedstawiające liczbę pożarów w danej dzielnicy na tysiąc gospodarstw domowych (pierwsza kolumna) oraz liczbę włamań w tej samej dzielnicy na tysiąc mieszkańców (druga kolumna). Celem jest stworzenie modelu przewidującego liczbę włamań na podstawie liczby pożarów.\n",
    "\n",
    "## Zadania\n",
    "\n",
    "Uruchom notatnik `slides/03/cls03-regresja_liniowa.ipynb`, szczegółowo przeanalizuj kod związany z regresją, a następnie wykonaj poniższe polecenia. Zadania należy wykonać w niniejszym notatniku, prezentacja wyników powinna być czytelna. \n",
    "\n",
    "1. Stwórz wykres punktowy dla danych z pliku `fires_thefts.txt`. Zwróć uwagę na poprawne oznaczenia osi, dodaj legendę. Następnie dodaj dowolną prostą z ręcznie dobranymi parametrami $\\theta$, oblicz i wyświetl wartość jej błędu $J(\\theta)$.\n",
    "2. Oblicz parametry $\\theta$ krzywej regresyjnej za pomocą macierzy normalnej. Otrzymane wyniki przedstaw na nowym wykresie.\n",
    "3. Oblicz parametry $\\theta$ krzywej regresyjnej za pomocą metody gradientu prostego (_Gradient Descent, GD_). Otrzymane wyniki przedstaw na nowym wykresie. Można wybrać wersję iteracyjną lub macierzową algorytmu GD.\n",
    "4. Dla różnych wartości długości kroku $\\alpha \\in \\{ 0.001, 0.01 , 0.1 \\}$ stwórz wykres, który zilustruje progresję wartości $J(\\theta)$ dla pierwszych 200 króków algorytmu GD. Wykres ma zatem na osi $x$ kroki od 0 do 200, na osi $y$ wartosci $J(\\theta)$, oraz przedstawia trzy krzywe, po jednej dla każdej wartości $\\alpha$.\n",
    "5. Wykorzystując uzyskaną krzywą regresyjną przepowiedz liczbę włamań na 1000 mieszkańców dla dzielnicy, w której występuje średnio 50, 100, 200 pożarów na tysiąc gospodarstw domowych."
   ]
  },
  {
   "cell_type": "code",
   "execution_count": null,
   "metadata": {
    "collapsed": false
   },
   "outputs": [],
   "source": [
    "import numpy as np\n",
    "import matplotlib\n",
    "import matplotlib.pyplot as pl\n",
    "import ipywidgets as widgets\n",
    "\n",
    "import warnings\n",
    "with warnings.catch_warnings():\n",
    "    warnings.simplefilter(\"ignore\")\n",
    "\n",
    "%matplotlib inline\n",
    "%config InlineBackend.figure_format = 'svg'\n",
    "\n",
    "from IPython.display import display, Math, Latex"
   ]
  }
 ],
 "metadata": {
  "hide_input": false,
  "kernelspec": {
   "display_name": "Python 2",
   "language": "python",
   "name": "python2"
  },
  "language_info": {
   "codemirror_mode": {
    "name": "ipython",
    "version": 2
   },
   "file_extension": ".py",
   "mimetype": "text/x-python",
   "name": "python",
   "nbconvert_exporter": "python",
   "pygments_lexer": "ipython2",
   "version": "2.7.12"
  }
 },
 "nbformat": 4,
 "nbformat_minor": 0
}
