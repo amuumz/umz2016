{
 "cells": [
  {
   "cell_type": "markdown",
   "metadata": {},
   "source": [
    "# OLX z Scikit-learn\n",
    "\n",
    "* Dokumentacja Scikit-learn: http://scikit-learn.org/0.15 (należy dopasować numer wersji zgodnie z zainstalowaną wersją)\n",
    "* Tutorial \"Text Analytics\": http://scikit-learn.org/0.15/tutorial/text_analytics/working_with_text_data.html\n",
    "* Opis konkursu OLX: http://dataninja.olx.pl/#about\n",
    "* Dane OLX: http://dataninja.olx.pl/competition/data\n",
    "\n",
    "## Zadanie\n",
    "\n",
    "Korzystając z pakietu _Scikit-learn_, zbuduj klasyfikator dla konkursu OLX.\n",
    "\n",
    "* Opisz dostępne dane tekstowe oraz cechy, które można z nich wyciągnąć, a które Twoim zdaniem mogą okazać się przydatne.\n",
    "* Wybierz i sprawdź co najmiej cztery różne rodzaje klasyfikatorów, w tym co najmniej dwa, które nie były dotąd omawiane na ćwiczeniach (np. SVM, Naiwny Bayes) lub wykładach (drzewa decyzyjne).\n",
    "* W każdym eksperymencie wykorzystuj walidację krzyżową (5-krotną), opisuj wyniki. \n",
    "* Dokonaj optymalizacji hiperparametrów za pomocą _GridSearch_ lub _RandomSearch_, opisz wnioski.\n",
    "\n",
    "Wskazówki:\n",
    "\n",
    "* Sprawdź jak jest obliczana skuteczność klasyfikacji.\n",
    "* Nie trzeba przetwarzać od razu całości danych.\n",
    "* Nie trzeba od razu (jeżeli w ogóle) wykorzystywać danych obrazkowych.\n",
    "* Stwórz _baseline model_, np. taki, który będzie zawsze przepowiadał korzeń drzewa kategorii.\n",
    "* Rozpocznij od modelu bazującego na najprostszych do uzyskania cechach.\n",
    "* Nie ma konieczności wrzucania rozwiązania na platformę OLX.\n",
    "\n",
    "**Uwaga**: zadanie to można wykonywać na laboratoriach nr 12 i 13 (dwa tygodnie)."
   ]
  }
 ],
 "metadata": {
  "hide_input": false,
  "kernelspec": {
   "display_name": "Python 3",
   "language": "python",
   "name": "python3"
  },
  "language_info": {
   "codemirror_mode": {
    "name": "ipython",
    "version": 3
   },
   "file_extension": ".py",
   "mimetype": "text/x-python",
   "name": "python",
   "nbconvert_exporter": "python",
   "pygments_lexer": "ipython3",
   "version": "3.5.2"
  }
 },
 "nbformat": 4,
 "nbformat_minor": 0
}
