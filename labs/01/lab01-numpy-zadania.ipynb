{
 "cells": [
  {
   "cell_type": "markdown",
   "metadata": {},
   "source": [
    "# NumPy - Zadania\n",
    "\n",
    "* Dokumentacja NumPy: http://docs.scipy.org/doc/numpy/reference/\n",
    "* Tutorial NumPy: https://docs.scipy.org/doc/numpy-dev/user/quickstart.html"
   ]
  },
  {
   "cell_type": "markdown",
   "metadata": {},
   "source": [
    "## Zadania 1.1\n",
    "\n",
    "1. Za pomocą jednowierszowego polecenia utwórz następującą macierz:\n",
    "$a =\n",
    "\\begin{pmatrix}\n",
    "1       & 2      & \\cdots & 10      \\\\\n",
    "11      & 12     & \\cdots & 20      \\\\\n",
    "\\vdots  & \\ddots & \\ddots & \\vdots  \\\\\n",
    "41      & 42     & \\cdots & 50 \n",
    "\\end{pmatrix}$\n",
    "2. Za pomocą metod obiektu `array`: \n",
    " * określ liczbę elementów, kolumn i wierszy,\n",
    " * stwórz wektory średnich po wierszach oraz po kolumnach,\n",
    " * wypisz trzecią kolumnę macierzy `a`.\n",
    "3. Przetestuj i opisz w jednym zdaniu działanie następujących funkcji: \n",
    " * `np.log(a)` \n",
    " * `np.cumsum(a)`\n",
    " * `np.rank(a)`\n",
    " * `np.power(a,2)`\n",
    "4. Stwórz wektor składający się z 50 losowych punktów z przedziału 14 do 31"
   ]
  },
  {
   "cell_type": "code",
   "execution_count": null,
   "metadata": {
    "collapsed": true
   },
   "outputs": [],
   "source": [
    "# tutaj wpisz swoje rozwiązania zadań 1.1"
   ]
  },
  {
   "cell_type": "markdown",
   "metadata": {},
   "source": [
    "## Zadania 1.2\n",
    "\n",
    "Zapisz i oblicz za pomocą NumPy\n",
    "1. Iloczyn macierzy $A$ z wektorem $\\vec{x}$:\n",
    "$$\\begin{align*}\n",
    "  A \\vec{x} &= \\left[\n",
    "    \\begin{array}{rrr}\n",
    "      1 & -1 & 2\\\\\n",
    "      0  & -3 & 1\n",
    "    \\end{array}\n",
    "  \\right]\n",
    "  \\left[\n",
    "    \\begin{array}{l}\n",
    "      2\\\\1\\\\0\n",
    "    \\end{array}\n",
    "  \\right]\n",
    "  =\n",
    "  \\left[\n",
    "    \\begin{array}{r}\n",
    "      1\\\\\n",
    "      -3\n",
    "    \\end{array}\n",
    "  \\right].\n",
    "\\end{align*}$$\n",
    "\n",
    "2. Iloczyn macierzy $A$ i $B$:  \n",
    "$$\\begin{align*}\n",
    "  AB &=\\left[\n",
    "      \\begin{array}{rrr}\n",
    "        0 & 4 & -2\\\\\n",
    "        -4 & -3 & 0\n",
    "      \\end{array}\n",
    "    \\right] \n",
    "    \\left[\n",
    "      \\begin{array}{rr}\n",
    "        0 &1\\\\\n",
    "        1 & -1\\\\\n",
    "        2 & 3\n",
    "      \\end{array}\n",
    "    \\right]\n",
    "    =\n",
    "    \\left[\n",
    "      \\begin{array}{rr}\n",
    "        0 & -10\\\\\n",
    "        -3 & -1\n",
    "      \\end{array}\n",
    "    \\right].\n",
    "  \\end{align*}$$\n",
    "  \n",
    "3. Pokaż, że dla powyższych macierzy $A$ i $B$ prawdą jest, że $(AB)^T = B^TA^T$.  \n",
    "4. Oblicz $\\det(AB)$ (wyznacznik iloczynu $AB$).\n",
    "4. Czym różni się operacja `A**-1` dla obiektów typu `array` i `matrix`? Pokaż na przykładzie. \n",
    "6. Dla macierzy $X = \\left[\n",
    "      \\begin{array}{rrr}\n",
    "        1 & 2 & 3\\\\\n",
    "        1 & 3 & 6 \\\\\n",
    "      \\end{array}\n",
    "    \\right]$ oraz wektora $\\vec{y} = \\left[\n",
    "      \\begin{array}{r}\n",
    "        5 \\\\\n",
    "        6 \\\\\n",
    "      \\end{array}\n",
    "    \\right]$ oblicz wynikowy wektor: \n",
    "$$\\vec{\\theta} = (X^TX)^{-1}X^T\\vec{y}.$$ Wykonaj te same obliczenia raz na obiektach typu `array` i raz na obiektach typu `matrix`. W przypadku obiektów typu `matrix` zastosuj możliwie krótki zapis. "
   ]
  },
  {
   "cell_type": "code",
   "execution_count": null,
   "metadata": {
    "collapsed": true
   },
   "outputs": [],
   "source": [
    "# tutaj wpisz swoje rozwiązania zadań 1.2"
   ]
  }
 ],
 "metadata": {
  "kernelspec": {
   "display_name": "Python 2",
   "language": "python",
   "name": "python2"
  },
  "language_info": {
   "codemirror_mode": {
    "name": "ipython",
    "version": 2
   },
   "file_extension": ".py",
   "mimetype": "text/x-python",
   "name": "python",
   "nbconvert_exporter": "python",
   "pygments_lexer": "ipython2",
   "version": "2.7.12"
  }
 },
 "nbformat": 4,
 "nbformat_minor": 0
}
