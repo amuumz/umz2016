{
 "cells": [
  {
   "cell_type": "markdown",
   "metadata": {},
   "source": [
    "# 2.2 Matplotlib - Wykresy kolumnowe, punktowe, histogramy"
   ]
  },
  {
   "cell_type": "markdown",
   "metadata": {},
   "source": [
    "## Wykresy kolumnowe"
   ]
  },
  {
   "cell_type": "code",
   "execution_count": null,
   "metadata": {
    "collapsed": true
   },
   "outputs": [],
   "source": [
    "%matplotlib inline"
   ]
  },
  {
   "cell_type": "code",
   "execution_count": null,
   "metadata": {
    "collapsed": false
   },
   "outputs": [],
   "source": [
    "import numpy as np\n",
    "import matplotlib.pyplot as plt\n",
    "\n",
    "# data: scores in five groups for men and women\n",
    "N = 5\n",
    "menMeans   = [18, 35, 30, 35, 27]\n",
    "menStd     = [2, 3, 4, 1, 2]\n",
    "womenMeans = [25, 32, 34, 20, 25]\n",
    "womenStd   = [3, 5, 2, 3, 3]\n",
    "\n",
    "# start creating figure\n",
    "fig = plt.figure(figsize=(10,8))\n",
    "ax = fig.add_subplot(111)\n",
    "\n",
    "# necessary variables\n",
    "LOCATIONS = np.arange(N)  # the x locations for the groups\n",
    "WIDTH = 0.35              # the width of the bars\n",
    "\n",
    "# the bars\n",
    "rects_m = ax.bar(LOCATIONS, menMeans, WIDTH,\n",
    "                color='blue',\n",
    "                yerr=menStd,\n",
    "                error_kw=dict(elinewidth=2,ecolor='red'))\n",
    "\n",
    "rects_f = ax.bar(LOCATIONS+WIDTH, womenMeans, WIDTH,\n",
    "                 color='red',\n",
    "                 yerr=womenStd,\n",
    "                 error_kw=dict(elinewidth=2,ecolor='blue'))\n",
    "\n",
    "# axes and labels\n",
    "ax.set_xlim(-WIDTH, len(LOCATIONS))\n",
    "ax.set_ylabel(\"Scores\")\n",
    "ax.set_title(\"Scores by group and gender\")\n",
    "xTickMarks = [\"Group {}\".format(i) for i in range(1,6)]\n",
    "ax.set_xticks(LOCATIONS + WIDTH)\n",
    "xtickNames = ax.set_xticklabels(xTickMarks)\n",
    "plt.setp(xtickNames, rotation=45, fontsize=10)\n",
    "\n",
    "# add a legend\n",
    "ax.legend( (rects_m[0], rects_f[0]), ('Men', 'Women') )\n",
    "\n",
    "plt.show()"
   ]
  },
  {
   "cell_type": "markdown",
   "metadata": {},
   "source": [
    "## Wykresy punktowe"
   ]
  },
  {
   "cell_type": "code",
   "execution_count": null,
   "metadata": {
    "collapsed": false
   },
   "outputs": [],
   "source": [
    "import numpy as np\n",
    "import matplotlib.pyplot as plt\n",
    "\n",
    "fig = plt.figure(figsize=(15,7))\n",
    "\n",
    "# left panel\n",
    "N = 1000\n",
    "ax1 = fig.add_subplot(121)\n",
    "\n",
    "x = np.random.randn(N)\n",
    "y = np.random.randn(N)\n",
    "ax1.scatter(x, y, color='blue', s=10, edgecolor='none')\n",
    "# make axes square\n",
    "ax1.set_aspect(1. / ax1.get_data_ratio()) \n",
    "\n",
    "# right panel\n",
    "ax2 = fig.add_subplot(122)\n",
    "props = dict(alpha=0.5, edgecolors='none')\n",
    "\n",
    "M = 200\n",
    "colors = ['blue', 'green', 'magenta', 'cyan']\n",
    "handles = []\n",
    "\n",
    "for color in colors:\n",
    "    x = np.random.randn(M)\n",
    "    y = np.random.randn(M)\n",
    "    size = np.random.randint(25,200)\n",
    "    handles.append(ax2.scatter(x, y, c=color, s=size, **props))\n",
    "\n",
    "#ax2.set_ylim([-5,10])\n",
    "#ax2.set_xlim([-5,10])\n",
    "\n",
    "ax2.legend(handles, colors)\n",
    "ax2.grid(True)\n",
    "ax2.set_aspect(1./ax2.get_data_ratio())\n",
    "\n",
    "plt.show()"
   ]
  },
  {
   "cell_type": "markdown",
   "metadata": {},
   "source": [
    "## Histogramy"
   ]
  },
  {
   "cell_type": "code",
   "execution_count": null,
   "metadata": {
    "collapsed": false
   },
   "outputs": [],
   "source": [
    "import numpy as np\n",
    "import matplotlib.pyplot as plt\n",
    "\n",
    "fig = plt.figure(figsize=(10, 8))\n",
    "ax = fig.add_subplot(111)\n",
    "\n",
    "x = np.random.normal(0, 1, 1000)\n",
    "num_bins = 50\n",
    "ax.hist(x, num_bins, color='green', alpha=0.8)\n",
    "plt.show()"
   ]
  }
 ],
 "metadata": {
  "kernelspec": {
   "display_name": "Python 2",
   "language": "python",
   "name": "python2"
  },
  "language_info": {
   "codemirror_mode": {
    "name": "ipython",
    "version": 2
   },
   "file_extension": ".py",
   "mimetype": "text/x-python",
   "name": "python",
   "nbconvert_exporter": "python",
   "pygments_lexer": "ipython2",
   "version": "2.7.12"
  }
 },
 "nbformat": 4,
 "nbformat_minor": 0
}
