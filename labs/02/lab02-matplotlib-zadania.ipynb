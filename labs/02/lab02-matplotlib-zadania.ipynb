{
 "cells": [
  {
   "cell_type": "markdown",
   "metadata": {},
   "source": [
    "# Wykresy - Zadania"
   ]
  },
  {
   "cell_type": "markdown",
   "metadata": {},
   "source": [
    "## Zadanie 2.1\n",
    "\n",
    "Stwórz wykresy funkcji $f(x) = \\frac{e^x}{e^x + 1}$ oraz $f(x)=\\tanh(x)$ w przedziale $[-10, 10]$. Wykresy umieść na jednym obiekcie *matplotlib*, dodaj podpisy osi i legendę, wykorzystaj różne style i kolory."
   ]
  },
  {
   "cell_type": "code",
   "execution_count": null,
   "metadata": {
    "collapsed": true
   },
   "outputs": [],
   "source": [
    "%matplotlib inline\n",
    "\n",
    "# tutaj wpisz rozwiązanie zadania 2.1"
   ]
  },
  {
   "cell_type": "markdown",
   "metadata": {},
   "source": [
    "## Zadanie 2.2\n",
    "\n",
    "Stwórz trójwymiarowy wykres funkcji $f(x,y) = -(x^2 + y^3)$ podobny do poniższego: \n",
    "<img src=\"plot3d.png\">"
   ]
  },
  {
   "cell_type": "code",
   "execution_count": null,
   "metadata": {
    "collapsed": true
   },
   "outputs": [],
   "source": [
    "%matplotlib inline\n",
    "\n",
    "# tutaj wpisz rozwiązanie zadania 2.2"
   ]
  },
  {
   "cell_type": "markdown",
   "metadata": {
    "collapsed": true
   },
   "source": [
    "## Zadanie 2.3\n",
    "\n",
    "Moduł `numpy.random` zawiera wiele różnych rozkładów prawdopodobieństwa (http://docs.scipy.org/doc/numpy/reference/routines.random.html#distributions). Wybierz cztery dowolne rozkłady inne niż rozkład normalny i przedstaw ich histogramy na jednym obiekcie `matplotlib`. Histogramy powinny być umieszczone na siatce 2x2. Liczba przedziałów to 100. Dla każdego histogramu wybierz różne style, dodaj legendę."
   ]
  },
  {
   "cell_type": "code",
   "execution_count": null,
   "metadata": {
    "collapsed": true
   },
   "outputs": [],
   "source": [
    "%matplotlib inline\n",
    "\n",
    "# tutaj wpisz rozwiązanie zadania 2.3"
   ]
  },
  {
   "cell_type": "markdown",
   "metadata": {},
   "source": [
    "## Zadanie 2.4\n",
    "\n",
    "W pliku `wine.data` znajduje się zbiór danych, który zawiera pomiary 13 właściwości (cech) charakteryzujących trzy różne gatunki wina. Stwórz dwa wykresy:\n",
    "\n",
    "1. Wykres dwuwymiarowy przedstawiający zależność dwóch wybranych przez Ciebie właściwości. \n",
    "2. Wykres trójwymiarowy, który dodatkowo będzie zawierał trzecią cechę. \n",
    "\n",
    "Punkty należące do różnych grup oznacz różnymi kolorami. Dodaj opisy osi oraz legendy. Wykorzystaj poniższy fragment kodu za punkt wyjścia.\n",
    "\n",
    "Pierwsza kolumna w pliku `wine.data` to klasa (wartość liczbowa 1, 2 lub 3) następnie znajduje się 13 cech. Wszystkie wartości oddzielone są przecinkiem. Szczegółowy opis kolumn znajduje się w pliku `wine.names`."
   ]
  },
  {
   "cell_type": "code",
   "execution_count": null,
   "metadata": {
    "collapsed": false
   },
   "outputs": [],
   "source": [
    "import csv\n",
    "reader = csv.reader(open(\"wine.data\"), delimiter=\",\")\n",
    "\n",
    "features = []\n",
    "labels = []\n",
    "for fields in reader:\n",
    "    features.append(fields[1:])\n",
    "    labels.append(fields[0])\n",
    "\n",
    "print(\"features: \", features[:3])\n",
    "print(\"labels: \", labels[:3])"
   ]
  }
 ],
 "metadata": {
  "kernelspec": {
   "display_name": "Python 2",
   "language": "python",
   "name": "python2"
  },
  "language_info": {
   "codemirror_mode": {
    "name": "ipython",
    "version": 2
   },
   "file_extension": ".py",
   "mimetype": "text/x-python",
   "name": "python",
   "nbconvert_exporter": "python",
   "pygments_lexer": "ipython2",
   "version": "2.7.12"
  }
 },
 "nbformat": 4,
 "nbformat_minor": 0
}
