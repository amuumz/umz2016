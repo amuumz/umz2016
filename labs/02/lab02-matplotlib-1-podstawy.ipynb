{
 "cells": [
  {
   "cell_type": "markdown",
   "metadata": {},
   "source": [
    "# 2.1 Matplotlib - Podstawowe wykresy \n",
    "\n",
    "## Prosty wykres krzywej"
   ]
  },
  {
   "cell_type": "code",
   "execution_count": null,
   "metadata": {
    "collapsed": false
   },
   "outputs": [],
   "source": [
    "%matplotlib inline"
   ]
  },
  {
   "cell_type": "code",
   "execution_count": null,
   "metadata": {
    "collapsed": false
   },
   "outputs": [],
   "source": [
    "import matplotlib.pyplot as plt\n",
    "\n",
    "plt.plot([1,2,3,4], [1,4,9,16], 'ro')\n",
    "plt.axis([0, 5, 0, 20])"
   ]
  },
  {
   "cell_type": "code",
   "execution_count": null,
   "metadata": {
    "collapsed": false
   },
   "outputs": [],
   "source": [
    "import numpy as np\n",
    "import matplotlib.pyplot as plt\n",
    "\n",
    "# initialize figure\n",
    "fig = plt.figure()\n",
    "# see http://matplotlib.org/api/pyplot_api.html#matplotlib.pyplot.subplot if you're curious what '111' means\n",
    "ax = fig.add_subplot(111)\n",
    "\n",
    "# format axes\n",
    "ax.set_ylabel('volts')\n",
    "ax.set_title('a sine wave')\n",
    "\n",
    "t = np.arange(0.0, 1.0, 0.01)\n",
    "s = np.sin(2*np.pi*t)\n",
    "line, = ax.plot(t, s, color='red', lw=2)"
   ]
  },
  {
   "cell_type": "markdown",
   "metadata": {
    "collapsed": true
   },
   "source": [
    "## Style wykresów"
   ]
  },
  {
   "cell_type": "code",
   "execution_count": null,
   "metadata": {
    "collapsed": false
   },
   "outputs": [],
   "source": [
    "import numpy as np\n",
    "import matplotlib.pyplot as plt\n",
    "\n",
    "## initialize the figure\n",
    "fig = plt.figure(figsize=(10,8))\n",
    "\n",
    "## the data\n",
    "t = np.arange(0.0, 1.0, 0.01)\n",
    "s = np.sin(2*np.pi*t)\n",
    "\n",
    "## the top axes\n",
    "ax1 = fig.add_subplot(3,1,1)\n",
    "ax1.set_ylabel('volts')\n",
    "ax1.set_title('a sine wave')\n",
    "\n",
    "line1 = ax1.plot(t, s+5.0, color='blue', lw=2)\n",
    "line2 = ax1.plot(t, s+2.5, color='red', lw=2)\n",
    "line3 = ax1.plot(t, s, color='orange', lw=2)\n",
    "\n",
    "## the middle axes\n",
    "ax2 = fig.add_subplot(3,1,2)\n",
    "ax2.set_ylabel('volts')\n",
    "ax2.set_title('a sine wave')\n",
    "\n",
    "line1 = ax2.plot(t, s+5.0, color='black', lw=2,linestyle=\"--\")\n",
    "line2 = ax2.plot(t, s+2.5, color='black', lw=2,linestyle=\"-.\")\n",
    "line3 = ax2.plot(t, s, color='#000000', lw=2,linestyle=\":\")\n",
    "\n",
    "## the thrid axes\n",
    "ax3 = fig.add_subplot(3,1,3)\n",
    "ax3.set_ylabel('volts')\n",
    "ax3.set_title('a sine wave')\n",
    "\n",
    "line1 = ax3.plot(t,s+5.0, color='blue', marker=\"+\")\n",
    "line2 = ax3.plot(t,s+2.5, color='red', marker=\"o\")\n",
    "line3 = ax3.plot(t,s, color='orange', marker=\"^\")\n",
    "\n",
    "## adjust the space between plots\n",
    "plt.subplots_adjust(wspace=0.2,hspace=.4)"
   ]
  },
  {
   "cell_type": "markdown",
   "metadata": {},
   "source": [
    "## Wykresy 3D"
   ]
  },
  {
   "cell_type": "code",
   "execution_count": null,
   "metadata": {
    "collapsed": false
   },
   "outputs": [],
   "source": [
    "import matplotlib as mpl\n",
    "from mpl_toolkits.mplot3d import Axes3D\n",
    "import numpy as np\n",
    "import matplotlib.pyplot as plt\n",
    "\n",
    "fig = plt.figure(figsize=(10,8))\n",
    "ax =  fig.add_subplot(111, projection='3d')\n",
    "\n",
    "theta = np.linspace(-4 * np.pi, 4 * np.pi, 50)\n",
    "z = np.linspace(-2, 2, 50)\n",
    "r = z**2 + 1\n",
    "x = r * np.sin(theta)\n",
    "y = r * np.cos(theta)\n",
    "\n",
    "ax.plot(x, y, z, label='parametric curve')\n",
    "ax.legend()\n",
    "\n",
    "plt.show()"
   ]
  },
  {
   "cell_type": "markdown",
   "metadata": {},
   "source": [
    "## Powierzchnie 3D"
   ]
  },
  {
   "cell_type": "code",
   "execution_count": null,
   "metadata": {
    "collapsed": false
   },
   "outputs": [],
   "source": [
    "from mpl_toolkits.mplot3d import Axes3D\n",
    "from matplotlib import cm\n",
    "import matplotlib.pyplot as plt\n",
    "import numpy as np\n",
    "\n",
    "fig = plt.figure(figsize=(10,8))\n",
    "ax = fig.add_subplot(111, projection='3d')\n",
    "\n",
    "X = np.arange(-5, 5, 0.25)\n",
    "Y = np.arange(-5, 5, 0.25)\n",
    "X, Y = np.meshgrid(X, Y)\n",
    "R = np.sqrt(X**2 + Y**2)\n",
    "Z = np.sin(R)\n",
    "\n",
    "surf = ax.plot_surface(X, Y, Z, rstride=1, cstride=1, cmap=cm.jet,\n",
    "        linewidth=0, antialiased=True)\n",
    "\n",
    "ax.set_zlim(-1.01, 1.01)\n",
    "\n",
    "plt.show()"
   ]
  }
 ],
 "metadata": {
  "kernelspec": {
   "display_name": "Python 3",
   "language": "python",
   "name": "python3"
  },
  "language_info": {
   "codemirror_mode": {
    "name": "ipython",
    "version": 3
   },
   "file_extension": ".py",
   "mimetype": "text/x-python",
   "name": "python",
   "nbconvert_exporter": "python",
   "pygments_lexer": "ipython3",
   "version": "3.5.2"
  }
 },
 "nbformat": 4,
 "nbformat_minor": 0
}
