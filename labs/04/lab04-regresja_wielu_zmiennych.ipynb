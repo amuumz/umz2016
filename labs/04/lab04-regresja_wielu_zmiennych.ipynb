{
 "cells": [
  {
   "cell_type": "markdown",
   "metadata": {},
   "source": [
    "# Uczenie maszynowe - regresja liniowa wielu zmiennych\n",
    "\n",
    "Stwórz model regresji liniowej dla cen mieszkań w Poznaniu. Zestaw danych to 5000 aktualnych opisów z serwisu _gratka.pl_.\n",
    "\n",
    "Miarą błędu na danych testowych będzie średnia kwadratowa błędu (_Root Mean Squared Error, RMSE_) dla cen mieszkań:\n",
    "\n",
    "$$ RMSE = \\sqrt{\\frac{1}{n}\\sum_{i=1}^n\\left(y_i-\\hat{y}_i\\,\\right)^2} $$\n",
    "\n",
    "## Dane\n",
    "\n",
    "Plik `gratkapl.csv` zawiera dane, na których należy zbudować model regresyjny.\n",
    "Pierwszy wiersz w pliku to nagłówek zawierający opisy kolumn.\n",
    "\n",
    "* Id - numer porządkowy oferty\n",
    "* Expected - cena mieszkania\n",
    "* Rooms - liczba pokoi\n",
    "* SqrMeters - metraż mieszkania w $m^2$\n",
    "* Floor - piętro\n",
    "* Location - dzielnica lub adres w Poznaniu\n",
    "* Description - fragment opisu mieszkania\n",
    "\n",
    "## Zadania:\n",
    "\n",
    "1. Dokonaj analizy fragmentu danych treningowych:\n",
    "    1. Dla pierwszych 500 mieszkań stwórz wykres złożony z trzech umieszczonych obok siebie wykresów punktowych ilustrujących po kolei korelację cech liczby pokoi, metrażu i piętra mieszkania z ceną mieszkań. Zadbaj o poprawne tytuły na osiach.\n",
    "    1. W trzech zdaniach opisz wnioski (użyj komórki typu `markdown`).\n",
    "    1. Powyższe dane są danymi rzeczywistymi, dlatego mogą zawierać szum w postaci odstających punktów (może być widoczny dopiero na większej liczbie danych). Opisz czy wystąpiły jakieś błędne dane, jeżeli tak, to jak wpływają na zależności cech oraz jak je usunięto.\n",
    "\n",
    "2. Oblicz RMSE na części dostępnych danych:\n",
    "    1. Podziel dane na dwie części, po 4000 i 1000 elementów.\n",
    "    1. Za pomocą wybranej metody optymalizacyjnej zbuduj model regresyjny (korzystając z trzech cech liczbowych) dla pierwszej większej cześci danych.\n",
    "    1. Zastosuj tak stworzony model (parametry $\\theta$) do drugiej mniejszej części danych i oblicz dla nich RMSE. Eksperymentuj z doborem wartości $\\alpha$ i $\\epsilon$.\n",
    "    \n",
    "3. Dla tego samego podziału danych uzyskaj jak najmniejszy RMSE, eksperymentując z doborem cech:\n",
    "    1. Oprócz oczywistych cech numerycznych jak metraż, cechy mogą być symbolicznymi cechami opisującymi występowanie wyrazów lub kombinacjami kilku cech. Zaprojektuj co najmniej trzy nowe cechy i krótko je opisz (wykorzystaj komórkę typu `markdown`). \n",
    "    1. Dla pierwszej części danych z poprzedniego zadania wyciągnij/oblicz nowe cechy, tj. do macierzy z danymi dodaj nowe kolumny dla nowych cech.\n",
    "    1. Stwórz model regresyjny na podziale danych z poprzedniego zadania, wykorzystujący dodatkowo nowe cechy. Oblicz nowy RMSE i porównaj go z poprzednim wynikiem. Eksperymentuj z doborem wartości $\\alpha$ i $\\epsilon$. Krótko opisz wyniki. Które cechy okazały się najbardziej przydatne?"
   ]
  }
 ],
 "metadata": {
  "hide_input": false,
  "kernelspec": {
   "display_name": "Python 2",
   "language": "python",
   "name": "python2"
  },
  "language_info": {
   "codemirror_mode": {
    "name": "ipython",
    "version": 2
   },
   "file_extension": ".py",
   "mimetype": "text/x-python",
   "name": "python",
   "nbconvert_exporter": "python",
   "pygments_lexer": "ipython2",
   "version": "2.7.12"
  }
 },
 "nbformat": 4,
 "nbformat_minor": 0
}
