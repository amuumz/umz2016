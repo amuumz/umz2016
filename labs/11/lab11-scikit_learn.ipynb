{
 "cells": [
  {
   "cell_type": "markdown",
   "metadata": {},
   "source": [
    "# scikit-learn\n",
    "\n",
    "### Instalacja\n",
    "\n",
    "W laboratoriach pakiet `sklearn` powinien być zainstalowany pod Windowsem i Linuxem.\n",
    "\n",
    "* Pod Linuxem można zainstalować lokalnie:\n",
    "        pip install --user sklearn\n",
    "* lub na własnym komputerze:\n",
    "        sudo pip install sklearn\n",
    "\n",
    "Konieczne może być ponowne uruchomienie IPython, jeśli był uruchomiony podczas instalacji.\n",
    "\n",
    "### Dokumentacja\n",
    "\n",
    "Pełna dokumentacja: http://scikit-learn.org/0.16. Należy zmienić numer wersji zgodnie z zainstalowaną wersją, aby przejść do właściwej dokumentacji.\n",
    "\n",
    "## 1. Zapoznanie z pakietem\n",
    "\n",
    "* Zapoznaj się z [dokumentacją](http://scikit-learn.org/0.16) _scikit-learn_. \n",
    "* Na podstawie [API](http://scikit-learn.org/0.16/modules/classes.html), podaj listę dostępnych rodzajów klasyfikatorów i regresorów. Które z metod poznaliśmy na wykładach, a które są nowe?\n",
    "* Jakie inne zagadnienia (inne niż modele klasyifikacji/regresji) omawiane na wykładach są uwzględniane w pakiecie `sklearn`? Krótko je opisz.\n",
    "\n",
    "## 2. Tutorial\n",
    "\n",
    "* Zapoznaj się z [wprowadzeniem](http://scikit-learn.org/0.15/tutorial/basic/tutorial.html) do `sklearn`.\n",
    "* Opracuj [tutorial \"text analytics\"](http://scikit-learn.org/0.16/tutorial/text_analytics/working_with_text_data.html) w formie notatnika IPython w języku polskim. Opracowanie nie może być wyłącznie tłumaczeniem."
   ]
  }
 ],
 "metadata": {
  "hide_input": false,
  "kernelspec": {
   "display_name": "Python 3",
   "language": "python",
   "name": "python3"
  },
  "language_info": {
   "codemirror_mode": {
    "name": "ipython",
    "version": 3
   },
   "file_extension": ".py",
   "mimetype": "text/x-python",
   "name": "python",
   "nbconvert_exporter": "python",
   "pygments_lexer": "ipython3",
   "version": "3.5.2"
  }
 },
 "nbformat": 4,
 "nbformat_minor": 0
}
