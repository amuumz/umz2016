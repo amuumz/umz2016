{
 "cells": [
  {
   "cell_type": "markdown",
   "metadata": {},
   "source": [
    "# Zadania - klasyfikacja wieloklasowa\n",
    "\n",
    "Celem zadań jest zbudowanie klasyfikatora rozpoznającego ręcznie zapisaną cyfrę 0-9 z pojedynczego czarno-białego obrazu. Zestaw danych, na których będziemy pracować to MNIST (https://en.wikipedia.org/wiki/MNIST_database).\n",
    "\n",
    "MNIST zawiera ok. 70000 obrazów, każdy oznaczony cyfrą, którą przedstawia. Pojedyncze obrazy w tym zbiorze danych wyglądają np. tak: \n",
    "\n",
    "<img src=\"http://pavel.surmenok.com/wp-content/uploads/2014/07/mnistdigits.gif\"/>\n",
    "\n",
    "Zbiór jest już podzielony na zestawy treningowy i testowy. "
   ]
  },
  {
   "cell_type": "markdown",
   "metadata": {},
   "source": [
    "## MNIST\n",
    "\n",
    "Pobierz cztery pliki `*-images-idx3-ubyte.gz` ze strony http://yann.lecun.com/exdb/mnist/ i rozpakuj (!) w tym samym katalogu, w którym znajduje się notatnik (pod Linuxem możesz wykorzystać skrypt `download.sh`). **Uwaga**: proszę nie wrzucać tych plików do swojego repozytorium.\n",
    "\n",
    "1. Wyświetl w postaci tablicy oraz w postaci obrazka pierwsze pięć liczb. Wykorzystaj do tego funkcje `readMnist` i `showImage` (nie jest potrzebna znajomość ich działania).\n",
    "1. Stwórz macierze dla zestawów treningowego i testowego, zawierające pierwsze 1000 obrazków każdy (wykorzystaj `maxItems` w funkcji `mnistMatrix`, podanie `maxItems=60000` wczyta wszystkie dane). Odpowiedz na pytania: ile cech ma każdy obrazek? Czym są te cechy? Jak przedstawione są etykiety w zbiorze testowym?"
   ]
  },
  {
   "cell_type": "markdown",
   "metadata": {},
   "source": [
    "## Regresja logistyczna\n",
    "\n",
    "1. Na podstawie materiałów z wykładu nr 5 zbuduj model wieloklasowej regresji logistycznej rozpoznający wszystkie 10 cyfr na podstawie pierwszych 1000 danych. Eksperymentuj z doborem parametrów w algorytmie GD. Uwaga: należy rozpocząć od małej liczby kroków, np. 100, i powoli zwiększać. Jaką osiągnięto poprawność (_accuracy_)?\n",
    "1. Zwiększ liczbę danych treningowych do 10000, 20000 itd. Co się dzieje z algorytmem GD?\n",
    "1. Zaimplementuj algorytm Batch-SGD (_Batch Stochastic Gradient Descent_), którego wykrzystasz w miejsce podstawowego algorytmu. Różnice między tymi algorytmami obrazują poniższe pseudokody:\n",
    "\n",
    "   Gradient Descent\n",
    "   ```\n",
    "   for i in range(num_epochs):\n",
    "       gradient = evaluate_gradient(J, data, thetas)\n",
    "       thetas = thetas - alpha * gradient\n",
    "   ```\n",
    "   \n",
    "   Batch Stochastic Gradient Descent\n",
    "   ```\n",
    "   for i in range(num_epochs):\n",
    "       shuffle(data)\n",
    "       for batch in get_batch(data, batch_size=50):\n",
    "           gradient = evaluate_gradient(J, batch, thetas)\n",
    "           thetas = thetas - alpha * gradient\n",
    "    ```\n",
    "    \n",
    "    Gdzie `num_epochs` to liczba epok, a epoką nazywamy jednokrotne wykorzystanie wszystkich danych w zbiorze treningowym do nauki parametrów (do tej pory zakładaliśmy `num_epoch=1`).\n",
    "\n",
    "1. Wykorzystaj Batch-SGD do zbudowania modelu na całosci danych treningowych (można zastosować jedną epokę i pominąć randomizację dla uzyskania stabilnych wyników). Jaką osiągnięto poprawność, dopasowując parametry `alpha`, `maxSteps` i `batchSize`? Zmiana których parametrów ma najmniejszy/największy wpływ na osiągany wynik? Które parametry są łatwe/trudne do dopasowywania?"
   ]
  },
  {
   "cell_type": "code",
   "execution_count": 1,
   "metadata": {
    "collapsed": false
   },
   "outputs": [],
   "source": [
    "import os\n",
    "import struct\n",
    "import numpy as np\n",
    "\n",
    "%matplotlib inline\n",
    "\n",
    "def readMnist(dataset = \"training\", path = \".\"):\n",
    "    \"\"\"\n",
    "    Python function for importing the MNIST data set.  It returns an iterator\n",
    "    of 2-tuples with the first element being the label and the second element\n",
    "    being a numpy.uint8 2D array of pixel data for the given image.\n",
    "    \"\"\"\n",
    "\n",
    "    if dataset is \"training\":\n",
    "        fname_img = os.path.join(path, 'train-images-idx3-ubyte')\n",
    "        fname_lbl = os.path.join(path, 'train-labels-idx1-ubyte')\n",
    "    elif dataset is \"testing\":\n",
    "        fname_img = os.path.join(path, 't10k-images-idx3-ubyte')\n",
    "        fname_lbl = os.path.join(path, 't10k-labels-idx1-ubyte')\n",
    "    else:\n",
    "        raise ValueError(\"dataset must be 'testing' or 'training'\")\n",
    "\n",
    "    # Load everything in some numpy arrays\n",
    "    with open(fname_lbl, 'rb') as flbl:\n",
    "        magic, num = struct.unpack(\">II\", flbl.read(8))\n",
    "        lbl = np.fromfile(flbl, dtype=np.int8)\n",
    "\n",
    "    with open(fname_img, 'rb') as fimg:\n",
    "        magic, num, rows, cols = struct.unpack(\">IIII\", fimg.read(16))\n",
    "        img = np.fromfile(fimg, dtype=np.uint8).reshape(len(lbl), rows, cols)\n",
    "\n",
    "    get_img = lambda idx: (lbl[idx], img[idx])\n",
    "\n",
    "    # Create an iterator which returns each image in turn\n",
    "    for i in range(len(lbl)):\n",
    "        yield get_img(i)\n",
    "\n",
    "def showImage(image):\n",
    "    \"\"\"\n",
    "    Render a given numpy.uint8 2D array of pixel data.\n",
    "    \"\"\"\n",
    "    from matplotlib import pyplot\n",
    "    import matplotlib as mpl\n",
    "    fig = pyplot.figure()\n",
    "    ax = fig.add_subplot(1,1,1)\n",
    "    imgplot = ax.imshow(image, cmap=mpl.cm.Greys)\n",
    "    imgplot.set_interpolation('nearest')\n",
    "    ax.xaxis.set_ticks_position('top')\n",
    "    ax.yaxis.set_ticks_position('left')\n",
    "    pyplot.show()"
   ]
  },
  {
   "cell_type": "code",
   "execution_count": 2,
   "metadata": {
    "collapsed": false
   },
   "outputs": [],
   "source": [
    "def mnistMatrix(data, maxItems=1000):\n",
    "    datalist = [t for t in data]\n",
    "    m = maxItems\n",
    "    n = 28 * 28 + 1\n",
    "    X = np.matrix(np.zeros(m * n)).reshape(m, n)\n",
    "    Y = np.matrix(np.zeros(m)).reshape(m, 1)\n",
    "    for i, (label, image) in enumerate(datalist[:m]):\n",
    "        X[i, 0] = 1 # bias term\n",
    "        X[i, 1:] = image.reshape(28*28,)\n",
    "        Y[i] = label\n",
    "    return X, Y"
   ]
  }
 ],
 "metadata": {
  "hide_input": false,
  "kernelspec": {
   "display_name": "Python 3",
   "language": "python",
   "name": "python3"
  },
  "language_info": {
   "codemirror_mode": {
    "name": "ipython",
    "version": 3
   },
   "file_extension": ".py",
   "mimetype": "text/x-python",
   "name": "python",
   "nbconvert_exporter": "python",
   "pygments_lexer": "ipython3",
   "version": "3.5.2"
  }
 },
 "nbformat": 4,
 "nbformat_minor": 0
}
