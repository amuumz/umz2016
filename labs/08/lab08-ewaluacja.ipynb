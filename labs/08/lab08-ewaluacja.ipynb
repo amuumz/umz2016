{
 "cells": [
  {
   "cell_type": "markdown",
   "metadata": {},
   "source": [
    "# Zadania - metodologia testowania"
   ]
  },
  {
   "cell_type": "markdown",
   "metadata": {},
   "source": [
    "### Walidacja krzyżowa\n",
    "\n",
    "1. (15 pkt) Zaimplementuj 4-krotną walidację krzyżową na danych treningowych ze zbioru MNIST. W jej wyniku powinny powstać cztery różne modele $M_i$ dla $i=1\\dots4$. Dla każdego modelu dobierz wspólne początkowe parametry ($\\alpha$, rozmiar wsadu, liczba epok), zastosuj randomizację danych między epokami.\n",
    "1. (10 pkt) Oblicz jakość każdego modelu na jego zbiorze walidacyjnym oraz średnią poprawność klasyfikacyjną na całym zbiorze treningowym poprzez uśrednienie wyników każdego z czterech zbiorów walidacyjnych.\n",
    "1. (15 pkt) Dobierz najlepsze parametry dla modeli $M_i$ na podstawie skuteczności osiąganej na zbiorze treningowym. Podaj skuteczności, podobnie jak w punkcie 2. \n",
    "1. (10 pkt) Zbuduj model z tak dobranymi parametrami (uśrednij, jeżeli są różne dla $M_i$) na całych danych treningowych i sprawdź jego skuteczność na zbiorze testowym. Czy model z takimi parametrami da najlepszy możliwy wynik na zbiorze testowym? Odpowiedź uzasadnij."
   ]
  },
  {
   "cell_type": "code",
   "execution_count": null,
   "metadata": {
    "collapsed": false
   },
   "outputs": [],
   "source": [
    "import numpy as np\n",
    "\n",
    "def safeSigmoid(x, eps=0):\n",
    "    y = 1.0/(1.0 + np.exp(-x))\n",
    "    if eps > 0:\n",
    "        y[y < eps] = eps\n",
    "        y[y > 1 - eps] = 1 - eps\n",
    "    return y\n",
    "\n",
    "def h(theta, X, eps=0.0):\n",
    "    return safeSigmoid(X*theta, eps)\n",
    "\n",
    "def J(h,theta,X,y):\n",
    "    m = len(y)\n",
    "    f = h(theta, X, eps=10**-7)\n",
    "    return -np.sum(np.multiply(y, np.log(f)) + \n",
    "                   np.multiply(1 - y, np.log(1 - f)), axis=0)/m\n",
    "\n",
    "def dJ(h,theta,X,y):\n",
    "    return 1.0/len(y)*(X.T*(h(theta,X)-y))\n",
    "\n",
    "def softmax(X):\n",
    "    return np.exp(X)/np.sum(np.exp(X))"
   ]
  },
  {
   "cell_type": "code",
   "execution_count": null,
   "metadata": {
    "collapsed": false
   },
   "outputs": [],
   "source": [
    "def SGD(h, fJ, fdJ, theta, X, y, \n",
    "        alpha=0.001, maxEpochs=1, batchSize=100):\n",
    "    m, n = X.shape\n",
    "    start, end = 0, batchSize\n",
    "    \n",
    "    maxSteps = (m * float(maxEpochs)) / batchSize\n",
    "    for i in range(int(maxSteps)):\n",
    "        XBatch, yBatch =  X[start:end,:], y[start:end,:]\n",
    "\n",
    "        theta = theta - alpha * fdJ(h, theta, XBatch, yBatch)\n",
    "        \n",
    "        if start + batchSize < m:\n",
    "            start += batchSize\n",
    "        else:\n",
    "            start = 0\n",
    "        end = min(start + batchSize, m)\n",
    "        \n",
    "    return theta"
   ]
  }
 ],
 "metadata": {
  "hide_input": false,
  "kernelspec": {
   "display_name": "Python 3",
   "language": "python",
   "name": "python3"
  },
  "language_info": {
   "codemirror_mode": {
    "name": "ipython",
    "version": 3
   },
   "file_extension": ".py",
   "mimetype": "text/x-python",
   "name": "python",
   "nbconvert_exporter": "python",
   "pygments_lexer": "ipython3",
   "version": "3.5.2"
  }
 },
 "nbformat": 4,
 "nbformat_minor": 0
}
