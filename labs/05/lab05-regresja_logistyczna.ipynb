{
 "cells": [
  {
   "cell_type": "markdown",
   "metadata": {},
   "source": [
    "# Zadania - regresja logistyczna\n",
    "\n",
    "### Normalizacja danych\n",
    "\n",
    "Do danych z ostatnich zajęć (`gratkapl.csv`), podzielonych na zbiór treningowy (pierwsze 4000 elementów) i testowy (ostatnie 1000 elementów) wykonaj następujące polecenia:\n",
    "\n",
    "1. W zbiorze treningowym usuń elementy odstające, pozostawiając jedynie te przykłady, w których dla każdej cechy $x_i$ zachodzi: $$ \\mu_i-n\\sigma_i < x_i < \\mu_i + n\\sigma_i,$$ gdzie $\\mu$ to średnia, $\\sigma$ to odchylenie standardowe, a $n$ to stała, np. 1 lub 2.\n",
    "1. Stwórz model regresyjny z wykorzystaniem metody gradientu prostego: jak zachowuje się regresja według ceny bez normalizacji danych? Dla wybranch ustawień stwórz wykres pokazujący wartości funkcji kosztu dla pierwszych $n$ kroków.\n",
    "1. Dokonaj normalizacji cech wykorzystując standardyzację.\n",
    "1. Stwórz ponownie model regresyjny na znormalizowanych danych, sprawdź podobne ustawienia i wygeneruj nowe wykresy: jak teraz zachowuje się funkcja kosztu na $n$ kroków?\n",
    "\n",
    "### Regresja logistyczna\n",
    "\n",
    "Plik `gratkapl-centrenrm.csv` zawiera dane wzbogacone o nową cechę _Centre_ przyjmującą wartość 1, jeżeli lokalizacja mieszkania to centrum i 0 wpp. Kolumna ta została dodana w sposób automatyczny, na podstawie występowania słowa \"centrum\" w lokalizacji, jednocześnie słowo to zostało usunięte z opisu lokalizacji. \n",
    "\n",
    "Zamiast przywidywania ceny mieszkania, spróbuj przewidzieć lokalizację mieszkania: _centrum_ vs. _nie-centrum_ za pomocą regresji logistcznej.\n",
    "\n",
    "1. Podziel dane trenujące na nowe dane treningowe (pierwsze 4/5 danych) i testowe (ostatnie 1/5 danych)\n",
    "1. Stwórz dwuklasowy model regresji logistycznej, korzystając z cech liczbowych _Expected,Rooms,SqrMeters,Floor_. Warto usunąć szum i dokonać normalizacji danych.\n",
    "1. Podaj procent poprawnych wyników (tzw. skuteczność, _accuracy_) dla zestawu testowego. Otrzymaną wartość porównaj z wynikiem uzyskiwanym przez klasyfikator losowy.\n",
    "1. Do cech liczbowych, dodaj cechy obliczone na podstawie kolumn _Location_ i _Description_ i ponownie oblicz skuteczność."
   ]
  }
 ],
 "metadata": {
  "hide_input": false,
  "kernelspec": {
   "display_name": "Python 2",
   "language": "python",
   "name": "python2"
  },
  "language_info": {
   "codemirror_mode": {
    "name": "ipython",
    "version": 2
   },
   "file_extension": ".py",
   "mimetype": "text/x-python",
   "name": "python",
   "nbconvert_exporter": "python",
   "pygments_lexer": "ipython2",
   "version": "2.7.12"
  }
 },
 "nbformat": 4,
 "nbformat_minor": 0
}
